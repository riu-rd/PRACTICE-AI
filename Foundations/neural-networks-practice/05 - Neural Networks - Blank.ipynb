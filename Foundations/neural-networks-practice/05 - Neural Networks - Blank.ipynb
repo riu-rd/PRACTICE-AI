{
 "cells": [
  {
   "cell_type": "markdown",
   "metadata": {},
   "source": [
    "# Neural Networks Exercise\n",
    "\n",
    "In this notebook, we will extend our `SGDClassifier` into a 2-layer neural network to train on a multinomial dataset.\n",
    "\n",
    "**Note: there is a jump from how scikit and PyTorch train their models.** It might be helpful to think that PyTorch sets the design of the computation graph first, then starts a session to \"feed\" the data for training.\n"
   ]
  },
  {
   "cell_type": "markdown",
   "metadata": {},
   "source": [
    "## Instructions for All Labs\n",
    "* Read each cell and implement the TODOs sequentially. The markdown/text cells also contain instructions which you need to follow to get the whole notebook working.\n",
    "* Do not change the variable names unless the instructor allows you to.\n",
    "* Some markdown cells contain questions.\n",
    "  * For questions <span style=\"color:red;\">colored in red</span>, you must submit your answers in the corresponding Assignment in the course page. Make sure that you enter your responses in the item with the matching question code. Answers that do not follow the prescribed format will automatically be marked wrong by the checker.\n",
    "  * For questions <span style=\"color:green;\">colored in green</span>, you don't have to submit your answers, but you must think about these questions as they will help enrich your understanding of the concepts covered in the labs.\n",
    "* You are expected to search how to some functions work on the Internet or via the docs. \n",
    "* You may add new cells for \"scrap work\".\n",
    "* The notebooks will undergo a \"Restart and Run All\" command, so make sure that your code is working properly.\n",
    "* You may not reproduce this notebook or share them to anyone."
   ]
  },
  {
   "cell_type": "markdown",
   "metadata": {},
   "source": [
    "## Import\n",
    "Import **matplotlib**, **csv**, **numpy**, and **torch**."
   ]
  },
  {
   "cell_type": "code",
   "execution_count": 80,
   "metadata": {},
   "outputs": [
    {
     "name": "stdout",
     "output_type": "stream",
     "text": [
      "The autoreload extension is already loaded. To reload it, use:\n",
      "  %reload_ext autoreload\n"
     ]
    }
   ],
   "source": [
    "from sklearn.model_selection import train_test_split\n",
    "import matplotlib.pyplot as plt\n",
    "import torch.optim as optim\n",
    "import torch.nn as nn\n",
    "import numpy as np\n",
    "import torch\n",
    "import csv\n",
    "import math\n",
    "\n",
    "%matplotlib inline\n",
    "\n",
    "# set default size of plots\n",
    "plt.rcParams['figure.figsize'] = (8.0, 8.0)\n",
    "plt.rcParams['image.interpolation'] = 'nearest'\n",
    "\n",
    "torch.manual_seed(0)\n",
    "\n",
    "\n",
    "%load_ext autoreload\n",
    "%autoreload 2"
   ]
  },
  {
   "cell_type": "markdown",
   "metadata": {},
   "source": [
    "# Synthetic Dataset\n",
    "\n",
    "Let's use the `make_blobs()` function to create a dataset with 1650 instances centered in (-6, 0), (0, 0), and (-3, -5)."
   ]
  },
  {
   "cell_type": "code",
   "execution_count": 81,
   "metadata": {},
   "outputs": [],
   "source": [
    "from sklearn.datasets import make_blobs\n",
    "\n",
    "centers = [[-6, 0], [0, 0], [-3, -5]]\n",
    "\n",
    "X, y = make_blobs(n_samples=1650, \n",
    "                  centers=centers, \n",
    "                  random_state=5)"
   ]
  },
  {
   "cell_type": "markdown",
   "metadata": {},
   "source": [
    "Let's get the number of instances per class. Below are our classes and their corresponding colors in the graph later.\n",
    "- class `0`, violet\n",
    "- class `1`, turquoise\n",
    "- class `2`, yellow"
   ]
  },
  {
   "cell_type": "code",
   "execution_count": 82,
   "metadata": {},
   "outputs": [
    {
     "name": "stdout",
     "output_type": "stream",
     "text": [
      "Number of class 0: 550\n",
      "Number of class 1: 550\n",
      "Number of class 2: 550\n"
     ]
    }
   ],
   "source": [
    "X_0 = X[y == 0]\n",
    "X_1 = X[y == 1]\n",
    "X_2 = X[y == 2]\n",
    "\n",
    "print('Number of class 0:', len(X_0))\n",
    "print('Number of class 1:', len(X_1))\n",
    "print('Number of class 2:', len(X_2))"
   ]
  },
  {
   "cell_type": "markdown",
   "metadata": {},
   "source": [
    "There are 550 instances for each class."
   ]
  },
  {
   "cell_type": "markdown",
   "metadata": {},
   "source": [
    "Let's divide the dataset into train and test set. The test set will contain 50 instances for each class."
   ]
  },
  {
   "cell_type": "code",
   "execution_count": 83,
   "metadata": {},
   "outputs": [
    {
     "name": "stdout",
     "output_type": "stream",
     "text": [
      "(150, 2)\n",
      "(150,)\n"
     ]
    }
   ],
   "source": [
    "np.random.seed(10)\n",
    "\n",
    "# Select 50 `class 0` instances\n",
    "selected_0 = np.random.choice(np.arange(len(X_0)),\n",
    "                              size=50,\n",
    "                              replace=False)\n",
    "\n",
    "# Select 50 `class 1` instances\n",
    "selected_1 = np.random.choice(np.arange(len(X_1)),\n",
    "                              size=50,\n",
    "                              replace=False)\n",
    "\n",
    "# Select 50 `class 2` instances\n",
    "selected_2 = np.random.choice(np.arange(len(X_2)),\n",
    "                              size=50,\n",
    "                              replace=False)\n",
    "\n",
    "# Form the test set\n",
    "X_test = np.concatenate((X_0[selected_0],\n",
    "                         X_1[selected_1],\n",
    "                         X_2[selected_2]))\n",
    "y_test = np.concatenate((np.array([0 for _ in range(50)]),\n",
    "                         np.array([1 for _ in range(50)]),\n",
    "                         np.array([2 for _ in range(50)])))\n",
    "\n",
    "print(X_test.shape)\n",
    "print(y_test.shape)"
   ]
  },
  {
   "cell_type": "markdown",
   "metadata": {},
   "source": [
    "The remaining 1500 instances will be a part of the train set, where each class has 500 instances."
   ]
  },
  {
   "cell_type": "code",
   "execution_count": 84,
   "metadata": {},
   "outputs": [
    {
     "name": "stdout",
     "output_type": "stream",
     "text": [
      "(1500, 2)\n",
      "(1500,)\n"
     ]
    }
   ],
   "source": [
    "X_train = np.concatenate((np.delete(X_0, selected_0, 0),\n",
    "                          np.delete(X_1, selected_1, 0),\n",
    "                          np.delete(X_2, selected_2, 0)))\n",
    "y_train = np.concatenate((np.array([0 for _ in range(500)]),\n",
    "                          np.array([1 for _ in range(500)]),\n",
    "                          np.array([2 for _ in range(500)])))\n",
    "\n",
    "print(X_train.shape)\n",
    "print(y_train.shape)"
   ]
  },
  {
   "cell_type": "markdown",
   "metadata": {},
   "source": [
    "Visualize the train data."
   ]
  },
  {
   "cell_type": "code",
   "execution_count": 85,
   "metadata": {},
   "outputs": [
    {
     "data": {
      "text/plain": [
       "Text(0.5, 1.0, 'Train data')"
      ]
     },
     "execution_count": 85,
     "metadata": {},
     "output_type": "execute_result"
    },
    {
     "data": {
      "image/png": "[encoded data removed]",
      "text/plain": [
       "<Figure size 800x800 with 1 Axes>"
      ]
     },
     "metadata": {},
     "output_type": "display_data"
    }
   ],
   "source": [
    "plt.scatter(X_train[:, 0], X_train[:, 1], c=y_train)\n",
    "plt.title('Train data')"
   ]
  },
  {
   "cell_type": "markdown",
   "metadata": {},
   "source": [
    "Visualize the test data."
   ]
  },
  {
   "cell_type": "code",
   "execution_count": 86,
   "metadata": {},
   "outputs": [
    {
     "data": {
      "text/plain": [
       "Text(0.5, 1.0, 'Test data')"
      ]
     },
     "execution_count": 86,
     "metadata": {},
     "output_type": "execute_result"
    },
    {
     "data": {
      "image/png": "[encoded data removed]",
      "text/plain": [
       "<Figure size 800x800 with 1 Axes>"
      ]
     },
     "metadata": {},
     "output_type": "display_data"
    }
   ],
   "source": [
    "plt.scatter(X_test[:, 0], X_test[:, 1], c=y_test)\n",
    "plt.title('Test data')"
   ]
  },
  {
   "cell_type": "markdown",
   "metadata": {},
   "source": [
    "**Sanity check:** You should have a similar graph like our training data, but now with fewer points. The colors should appear in the same area, too."
   ]
  },
  {
   "cell_type": "markdown",
   "metadata": {},
   "source": [
    "Convert the `np.ndarray` arrays to `torch.Tensor`. We use `torch.Tensor` in PyTorch."
   ]
  },
  {
   "cell_type": "markdown",
   "metadata": {},
   "source": [
    "Convert the variable `X_train` to the datatype `torch.Tensor` and assign the return value to variable `X_train`."
   ]
  },
  {
   "cell_type": "code",
   "execution_count": 87,
   "metadata": {},
   "outputs": [],
   "source": [
    "# Write your code here\n",
    "X_train = torch.Tensor(X_train)"
   ]
  },
  {
   "cell_type": "markdown",
   "metadata": {},
   "source": [
    "Convert the variable `y_train` to the datatype `torch.Tensor` and assign the return value to variable `y_train`."
   ]
  },
  {
   "cell_type": "code",
   "execution_count": 88,
   "metadata": {},
   "outputs": [],
   "source": [
    "# Write your code here\n",
    "y_train = torch.Tensor(y_train)"
   ]
  },
  {
   "cell_type": "markdown",
   "metadata": {},
   "source": [
    "Convert the variable `X_test` to the datatype `torch.Tensor` and assign the return value to variable `X_test`."
   ]
  },
  {
   "cell_type": "code",
   "execution_count": 89,
   "metadata": {},
   "outputs": [],
   "source": [
    "# Write your code here\n",
    "X_test = torch.Tensor(X_test)"
   ]
  },
  {
   "cell_type": "markdown",
   "metadata": {},
   "source": [
    "Convert the variable `y_test` to the datatype `torch.Tensor` and assign the return value to variable `y_test`."
   ]
  },
  {
   "cell_type": "code",
   "execution_count": 90,
   "metadata": {},
   "outputs": [],
   "source": [
    "# Write your code here\n",
    "y_test = torch.Tensor(y_test)"
   ]
  },
  {
   "cell_type": "markdown",
   "metadata": {},
   "source": [
    "This is the data which we will feed into our neural network model."
   ]
  },
  {
   "cell_type": "markdown",
   "metadata": {},
   "source": [
    "# Neural Network\n",
    "\n",
    "We will follow the pseudocode below:\n",
    "\n",
    "\n",
    "1. Set up the size of our network.\n",
    "2. Initialize weights variables.\n",
    "\n",
    "start loop\n",
    "3. Do forward propagation.\n",
    "4. Get the predictions.\n",
    "5. Calculate for the loss.\n",
    "6. Do backward propagation to update/optimize the weight variables.\n",
    "\n",
    "end loop\n",
    "\n",
    "Open `neural_network.py` file. Some of the functions in the `NeuralNetwork` class are not yet implemented. We will implement the missing parts of this class."
   ]
  },
  {
   "cell_type": "markdown",
   "metadata": {},
   "source": [
    "Import the `NeuralNetwork` class."
   ]
  },
  {
   "cell_type": "code",
   "execution_count": 91,
   "metadata": {},
   "outputs": [],
   "source": [
    "from neural_network import NeuralNetwork"
   ]
  },
  {
   "cell_type": "markdown",
   "metadata": {},
   "source": [
    "## Step 1. Setting up the size of the network\n",
    "\n",
    "Instantiate a `NeuralNetwork` object. Set the following parameters:\n",
    "- `list_hidden` = (5, 10)\n",
    "- `activation` = `sigmoid`\n",
    "\n",
    "Here, we are creating a Neural Network with two hidden layers, where there are 5 units in the first layer and 10 units in the second layer.\n",
    "\n",
    "Set the other parameters according to the synthetic dataset that we created earlier."
   ]
  },
  {
   "cell_type": "code",
   "execution_count": 92,
   "metadata": {},
   "outputs": [],
   "source": [
    "# Write your code here\n",
    "list_hidden = [5, 10]\n",
    "activation = \"sigmoid\"\n",
    "\n",
    "network = NeuralNetwork(2, 3, list_hidden, activation)"
   ]
  },
  {
   "cell_type": "markdown",
   "metadata": {},
   "source": [
    "Open `neural_network.py` file and complete the `create_network()` function in the `NeuralNetwork` class. This function creates the layers of the neural network."
   ]
  },
  {
   "cell_type": "markdown",
   "metadata": {},
   "source": [
    "Implement the `create_network()` function  in the `NeuralNetwork` class. Inline comments should help you in completing the contents of the function."
   ]
  },
  {
   "cell_type": "markdown",
   "metadata": {},
   "source": [
    "Create the layers of the neural network by calling the function `create_network()`."
   ]
  },
  {
   "cell_type": "code",
   "execution_count": 93,
   "metadata": {},
   "outputs": [],
   "source": [
    "# Write your code here\n",
    "network.create_network()"
   ]
  },
  {
   "cell_type": "markdown",
   "metadata": {},
   "source": [
    "Display the structure of the neural network."
   ]
  },
  {
   "cell_type": "code",
   "execution_count": 94,
   "metadata": {},
   "outputs": [
    {
     "name": "stdout",
     "output_type": "stream",
     "text": [
      "NeuralNetwork(\n",
      "  (layers): Sequential(\n",
      "    (0): Linear(in_features=2, out_features=5, bias=True)\n",
      "    (1): Sigmoid()\n",
      "    (2): Linear(in_features=5, out_features=10, bias=True)\n",
      "    (3): Sigmoid()\n",
      "    (4): Linear(in_features=10, out_features=3, bias=True)\n",
      "    (5): Softmax(dim=1)\n",
      "  )\n",
      ")\n"
     ]
    }
   ],
   "source": [
    "print(network)"
   ]
  },
  {
   "cell_type": "code",
   "execution_count": 95,
   "metadata": {},
   "outputs": [
    {
     "name": "stdout",
     "output_type": "stream",
     "text": [
      "Parameters: [10, 5, 50, 10, 30, 3]\n",
      "Total number of parameters: 108\n"
     ]
    }
   ],
   "source": [
    "total_params = [p.numel() for p in network.parameters()]\n",
    "\n",
    "print(f\"Parameters: {total_params}\")\n",
    "print(f\"Total number of parameters: {sum(total_params)}\")"
   ]
  },
  {
   "cell_type": "markdown",
   "metadata": {},
   "source": [
    "<span style=\"color:red;\">**Question 5-1:** Give the value of the `in_features` of the first `nn.Linear` module (Index 0).</span>"
   ]
  },
  {
   "cell_type": "markdown",
   "metadata": {},
   "source": [
    "> 2"
   ]
  },
  {
   "cell_type": "markdown",
   "metadata": {},
   "source": [
    "<span style=\"color:red;\">**Question 5-2:** Give the value of the `out_features` of the last `nn.Linear` module (Index 4).</span>"
   ]
  },
  {
   "cell_type": "markdown",
   "metadata": {},
   "source": [
    "> 3"
   ]
  },
  {
   "cell_type": "markdown",
   "metadata": {},
   "source": [
    "<span style=\"color:red;\">**Question 5-3:** Give the total number of parameters of the model.</span>"
   ]
  },
  {
   "cell_type": "markdown",
   "metadata": {},
   "source": [
    "> 108"
   ]
  },
  {
   "cell_type": "markdown",
   "metadata": {},
   "source": [
    "## Step 2. Initializing the model weights\n",
    "\n",
    "Open `neural_network.py` file and complete the `init_weights()` function in the `NeuralNetwork` class. This function initializes the weight of the network. Weights of a `nn.Linear` layer should be initialized from a normal distribution with mean `0` and standard deviation `0.1`. Bias terms of a `nn.Linear` layer should be initialized with a constant value of `0`."
   ]
  },
  {
   "cell_type": "markdown",
   "metadata": {},
   "source": [
    "Implement the `init_weights()` function  in the `NeuralNetwork` class. Inline comments should help you in completing the contents of the function."
   ]
  },
  {
   "cell_type": "markdown",
   "metadata": {},
   "source": [
    "Initialize the weights of the neural network by calling the function `init_weights()`."
   ]
  },
  {
   "cell_type": "code",
   "execution_count": 96,
   "metadata": {},
   "outputs": [],
   "source": [
    "# Write your code here\n",
    "network.init_weights()"
   ]
  },
  {
   "cell_type": "markdown",
   "metadata": {},
   "source": [
    "Display the weight of the 1st `nn.Linear` layer in the network."
   ]
  },
  {
   "cell_type": "code",
   "execution_count": 97,
   "metadata": {
    "scrolled": false
   },
   "outputs": [
    {
     "name": "stdout",
     "output_type": "stream",
     "text": [
      "Parameter containing:\n",
      "tensor([[ 0.0392, -0.0224],\n",
      "        [-0.0320, -0.1205],\n",
      "        [ 0.1044, -0.0633],\n",
      "        [ 0.0573,  0.0541],\n",
      "        [-0.0392, -0.1043]], requires_grad=True)\n"
     ]
    }
   ],
   "source": [
    "print(network.layers[0].weight)"
   ]
  },
  {
   "cell_type": "markdown",
   "metadata": {},
   "source": [
    "**Sanity check:** The output of the previous cell should look like:\n",
    "\n",
    "```\n",
    "Parameter containing:\n",
    "tensor([[ x.xxxx, x.xxxx],\n",
    "        ...\n",
    "        [ x.xxxx, x.xxxx]], requires_grad=True)```\n",
    "        \n",
    "where `x.xxxx` is some float."
   ]
  },
  {
   "cell_type": "markdown",
   "metadata": {},
   "source": [
    "<span style=\"color:red;\">**Question 5-4:** Give the first value in the first row of the weights of the 1st `nn.Linear` layer in the network. Limit to four decimal places.</span>"
   ]
  },
  {
   "cell_type": "markdown",
   "metadata": {},
   "source": [
    "> 0.0392"
   ]
  },
  {
   "cell_type": "markdown",
   "metadata": {},
   "source": [
    "Display the bias term of the 1st `nn.Linear` layer in the network."
   ]
  },
  {
   "cell_type": "code",
   "execution_count": 98,
   "metadata": {},
   "outputs": [
    {
     "name": "stdout",
     "output_type": "stream",
     "text": [
      "Parameter containing:\n",
      "tensor([0., 0., 0., 0., 0.], requires_grad=True)\n"
     ]
    }
   ],
   "source": [
    "print(network.layers[0].bias)"
   ]
  },
  {
   "cell_type": "markdown",
   "metadata": {},
   "source": [
    "**Sanity check:** The output of the previous cell should be:\n",
    "\n",
    "```\n",
    "Parameter containing:\n",
    "tensor([0., 0., 0., 0., 0.], requires_grad=True)```"
   ]
  },
  {
   "cell_type": "markdown",
   "metadata": {},
   "source": [
    "Display the weight of the 2nd `nn.Linear` layer in the network."
   ]
  },
  {
   "cell_type": "code",
   "execution_count": 99,
   "metadata": {
    "scrolled": true
   },
   "outputs": [
    {
     "name": "stdout",
     "output_type": "stream",
     "text": [
      "Parameter containing:\n",
      "tensor([[ 0.0030, -0.0050,  0.1065,  0.0886, -0.0811],\n",
      "        [ 0.0674, -0.1123, -0.0092,  0.0140,  0.1119],\n",
      "        [ 0.0315,  0.1753, -0.0740, -0.1242, -0.0175],\n",
      "        [ 0.0699, -0.1294, -0.0024, -0.0235, -0.0709],\n",
      "        [-0.0866, -0.0266,  0.0167,  0.0791, -0.0932],\n",
      "        [-0.0858, -0.0965, -0.0099, -0.0299, -0.0065],\n",
      "        [-0.1572, -0.1321,  0.0045,  0.1585, -0.0236],\n",
      "        [ 0.0944,  0.0546, -0.1358,  0.1145, -0.0965],\n",
      "        [-0.0259, -0.0042,  0.0189,  0.2143, -0.0278],\n",
      "        [ 0.0551,  0.0015, -0.0918, -0.1234,  0.0254]], requires_grad=True)\n"
     ]
    }
   ],
   "source": [
    "# Write your code here\n",
    "print(network.layers[2].weight)"
   ]
  },
  {
   "cell_type": "markdown",
   "metadata": {},
   "source": [
    "<span style=\"color:red;\">**Question 5-5:** Give the last value in the last row of the weights of the 2nd `nn.Linear` layer in the network. Limit to four decimal places.</span>"
   ]
  },
  {
   "cell_type": "markdown",
   "metadata": {},
   "source": [
    "> 0.0254"
   ]
  },
  {
   "cell_type": "markdown",
   "metadata": {},
   "source": [
    "Display the bias term of the 2nd `nn.Linear` layer in the network."
   ]
  },
  {
   "cell_type": "code",
   "execution_count": 100,
   "metadata": {},
   "outputs": [
    {
     "name": "stdout",
     "output_type": "stream",
     "text": [
      "Parameter containing:\n",
      "tensor([0., 0., 0., 0., 0., 0., 0., 0., 0., 0.], requires_grad=True)\n"
     ]
    }
   ],
   "source": [
    "# Write your code here\n",
    "print(network.layers[2].bias)"
   ]
  },
  {
   "cell_type": "markdown",
   "metadata": {},
   "source": [
    "Display the weight of the 3rd `nn.Linear` layer in the network."
   ]
  },
  {
   "cell_type": "code",
   "execution_count": 101,
   "metadata": {},
   "outputs": [
    {
     "name": "stdout",
     "output_type": "stream",
     "text": [
      "Parameter containing:\n",
      "tensor([[ 0.0334,  0.0176,  0.0486,  0.0277,  0.0599, -0.0302, -0.0745, -0.1091,\n",
      "         -0.1047, -0.1577],\n",
      "        [ 0.0427,  0.0679,  0.0918,  0.0481,  0.0506,  0.1519, -0.0490,  0.0923,\n",
      "          0.1998,  0.1483],\n",
      "        [ 0.0195, -0.1137, -0.0924,  0.1874,  0.1012, -0.1448,  0.0176,  0.0606,\n",
      "          0.0311, -0.1692]], requires_grad=True)\n"
     ]
    }
   ],
   "source": [
    "# Write your code here\n",
    "print(network.layers[4].weight)"
   ]
  },
  {
   "cell_type": "markdown",
   "metadata": {},
   "source": [
    "<span style=\"color:red;\">**Question 5-6:** Give the first value in the first row of the weights of the 3rd `nn.Linear` layer in the network. Limit to four decimal places.</span>"
   ]
  },
  {
   "cell_type": "markdown",
   "metadata": {},
   "source": [
    "> 0.0334"
   ]
  },
  {
   "cell_type": "markdown",
   "metadata": {},
   "source": [
    "Display the bias term of the 3rd `nn.Linear` layer in the network."
   ]
  },
  {
   "cell_type": "code",
   "execution_count": 102,
   "metadata": {
    "scrolled": true
   },
   "outputs": [
    {
     "name": "stdout",
     "output_type": "stream",
     "text": [
      "Parameter containing:\n",
      "tensor([0., 0., 0.], requires_grad=True)\n"
     ]
    }
   ],
   "source": [
    "# Write your code here\n",
    "print(network.layers[4].bias)"
   ]
  },
  {
   "cell_type": "markdown",
   "metadata": {},
   "source": [
    "## Step 3. Forward propagation\n",
    "\n",
    "Forward propagation computes the output of each layer in the neural network. \n",
    "\n",
    "Open `neural_network.py` file and complete the `forward_manual()` function in the `NeuralNetwork` class. This function performs the forward propagation of the model, implemented manually. You have to manually implement the computation of the output of each linear layer in the network."
   ]
  },
  {
   "cell_type": "markdown",
   "metadata": {},
   "source": [
    "Implement the `forward_manual()` function  in the `NeuralNetwork` class. Inline comments should help you in completing the contents of the function."
   ]
  },
  {
   "cell_type": "markdown",
   "metadata": {},
   "source": [
    "Perform forward propagation in the model by calling the function `forward_manual`. Pass the training instance in index `0`. Set `verbose=True`. Assign the return values to variables `scores` and `probabilities.`\n",
    "\n",
    "The function should display the output of the model for in each layer."
   ]
  },
  {
   "cell_type": "code",
   "execution_count": 103,
   "metadata": {
    "scrolled": false
   },
   "outputs": [
    {
     "name": "stdout",
     "output_type": "stream",
     "text": [
      "Output of layer 0\n",
      "tensor([[-0.3000,  0.1435, -0.8014, -0.3752,  0.2076]], grad_fn=<AddBackward0>) \n",
      "\n",
      "Output of layer 1\n",
      "tensor([[0.4256, 0.5358, 0.3097, 0.4073, 0.5517]], grad_fn=<SigmoidBackward0>) \n",
      "\n",
      "Output of layer 2\n",
      "tensor([[ 0.0229,  0.0331,  0.0242, -0.0891, -0.0651, -0.1070, -0.0847,  0.0208,\n",
      "          0.0645, -0.0404]], grad_fn=<AddBackward0>) \n",
      "\n",
      "Output of layer 3\n",
      "tensor([[0.5057, 0.5083, 0.5060, 0.4778, 0.4837, 0.4733, 0.4788, 0.5052, 0.5161,\n",
      "         0.4899]], grad_fn=<SigmoidBackward0>) \n",
      "\n",
      "Output of layer 4\n",
      "tensor([[-0.1437,  0.4208, -0.0526]], grad_fn=<AddBackward0>) \n",
      "\n",
      "Output of layer 5\n",
      "tensor([[0.2595, 0.4563, 0.2842]], grad_fn=<SoftmaxBackward0>) \n",
      "\n"
     ]
    }
   ],
   "source": [
    "# Write your code here\n",
    "scores, probabilities = network.forward_manual(X_train[[0]], verbose=True)"
   ]
  },
  {
   "cell_type": "markdown",
   "metadata": {},
   "source": [
    "**Sanity check:** Let's call the pre-implemented `forward()` function of the model. This function also performs forward propagation, but using the operations defined in Pytorch modules. Thus, the output of our implementation of the `forward_manual()` function should be the same as the output of the `forward()` function below."
   ]
  },
  {
   "cell_type": "code",
   "execution_count": 104,
   "metadata": {},
   "outputs": [
    {
     "name": "stdout",
     "output_type": "stream",
     "text": [
      "Output of layer 0\n",
      "tensor([[-0.3000,  0.1435, -0.8014, -0.3752,  0.2076]],\n",
      "       grad_fn=<AddmmBackward0>) \n",
      "\n",
      "Output of layer 1\n",
      "tensor([[0.4256, 0.5358, 0.3097, 0.4073, 0.5517]], grad_fn=<SigmoidBackward0>) \n",
      "\n",
      "Output of layer 2\n",
      "tensor([[ 0.0229,  0.0331,  0.0242, -0.0891, -0.0651, -0.1070, -0.0847,  0.0208,\n",
      "          0.0645, -0.0404]], grad_fn=<AddmmBackward0>) \n",
      "\n",
      "Output of layer 3\n",
      "tensor([[0.5057, 0.5083, 0.5060, 0.4778, 0.4837, 0.4733, 0.4788, 0.5052, 0.5161,\n",
      "         0.4899]], grad_fn=<SigmoidBackward0>) \n",
      "\n",
      "Output of layer 4\n",
      "tensor([[-0.1437,  0.4208, -0.0526]], grad_fn=<AddmmBackward0>) \n",
      "\n",
      "Output of layer 5\n",
      "tensor([[0.2595, 0.4563, 0.2842]], grad_fn=<SoftmaxBackward0>) \n",
      "\n"
     ]
    }
   ],
   "source": [
    "# Write your code here\n",
    "scores, probabilities = network.forward(X_train[[0]], verbose=True)"
   ]
  },
  {
   "cell_type": "markdown",
   "metadata": {},
   "source": [
    "<span style=\"color:red;\">**Question 5-7:** What is the sum of the output of the last layer of the network? Limit to four decimal places.</span>"
   ]
  },
  {
   "cell_type": "markdown",
   "metadata": {},
   "source": [
    "> 1.0000"
   ]
  },
  {
   "cell_type": "markdown",
   "metadata": {},
   "source": [
    "<span style=\"color:red;\">**Question 5-8:** Why did we get the sum?</span>"
   ]
  },
  {
   "cell_type": "markdown",
   "metadata": {},
   "source": [
    "> The last layer uses the Softmax activation function which normalizes the output values into probabilities that sum to 1."
   ]
  },
  {
   "cell_type": "markdown",
   "metadata": {},
   "source": [
    "## Step 4. Getting the predictions\n",
    "\n",
    "Since this is a multinomial classification problem, the predicted class corresponds to the class with the highest probability.\n",
    "\n",
    "Open `neural_network.py` file and complete the `predict()` function in the `NeuralNetwork` class. This function returns the index of the class with the highest probability."
   ]
  },
  {
   "cell_type": "markdown",
   "metadata": {},
   "source": [
    "Implement the `predict()` function  in the `NeuralNetwork` class. Inline comments should help you in completing the contents of the function."
   ]
  },
  {
   "cell_type": "markdown",
   "metadata": {},
   "source": [
    "Get 10 random training instances in the dataset."
   ]
  },
  {
   "cell_type": "code",
   "execution_count": 105,
   "metadata": {
    "scrolled": true
   },
   "outputs": [
    {
     "name": "stdout",
     "output_type": "stream",
     "text": [
      "Random indices:  [1289 1149  527 1344 1393 1147 1180  733 1032 1097]\n"
     ]
    }
   ],
   "source": [
    "np.random.seed(10)\n",
    "random_indices = np.random.randint(X_train.shape[0], \n",
    "                                   size=10)\n",
    "print('Random indices: ', random_indices)"
   ]
  },
  {
   "cell_type": "markdown",
   "metadata": {},
   "source": [
    "Compute the scores and probabilities of the random training instances by calling the function `forward()`. Assign the return values to variables `scores` and `probabilities`."
   ]
  },
  {
   "cell_type": "code",
   "execution_count": 106,
   "metadata": {},
   "outputs": [
    {
     "name": "stdout",
     "output_type": "stream",
     "text": [
      "Output of layer 0\n",
      "tensor([[-5.5222e-03,  5.5244e-01,  3.0987e-04, -3.5077e-01,  5.0562e-01],\n",
      "        [-3.2525e-02,  5.3763e-01, -7.2593e-02, -3.6720e-01,  4.9901e-01],\n",
      "        [-4.4699e-02, -6.9678e-02, -1.2192e-01,  1.0465e-03, -5.2167e-02],\n",
      "        [-2.5078e-03,  6.6809e-01,  1.1571e-02, -4.2023e-01,  6.1041e-01],\n",
      "        [ 4.3078e-02,  8.2346e-01,  1.3822e-01, -4.7403e-01,  7.4056e-01],\n",
      "        [-6.3557e-02,  6.8393e-01, -1.5190e-01, -4.8823e-01,  6.4047e-01],\n",
      "        [-1.1101e-02,  6.8659e-01, -1.0993e-02, -4.3998e-01,  6.2949e-01],\n",
      "        [ 5.7583e-03, -8.0795e-02,  1.3246e-02,  5.6011e-02, -7.5214e-02],\n",
      "        [-1.7303e-02,  8.3305e-01, -2.3630e-02, -5.3749e-01,  7.6475e-01],\n",
      "        [-8.5628e-03,  5.3426e-01, -8.3512e-03, -3.4230e-01,  4.8981e-01]],\n",
      "       grad_fn=<AddmmBackward0>) \n",
      "\n",
      "Output of layer 1\n",
      "tensor([[0.4986, 0.6347, 0.5001, 0.4132, 0.6238],\n",
      "        [0.4919, 0.6313, 0.4819, 0.4092, 0.6222],\n",
      "        [0.4888, 0.4826, 0.4696, 0.5003, 0.4870],\n",
      "        [0.4994, 0.6611, 0.5029, 0.3965, 0.6480],\n",
      "        [0.5108, 0.6950, 0.5345, 0.3837, 0.6771],\n",
      "        [0.4841, 0.6646, 0.4621, 0.3803, 0.6549],\n",
      "        [0.4972, 0.6652, 0.4973, 0.3917, 0.6524],\n",
      "        [0.5014, 0.4798, 0.5033, 0.5140, 0.4812],\n",
      "        [0.4957, 0.6970, 0.4941, 0.3688, 0.6824],\n",
      "        [0.4979, 0.6305, 0.4979, 0.4153, 0.6201]], grad_fn=<SigmoidBackward0>) \n",
      "\n",
      "Output of layer 2\n",
      "tensor([[ 0.0376,  0.0333,  0.0277, -0.1025, -0.0772, -0.1254, -0.1092,  0.0010,\n",
      "          0.0651, -0.0526],\n",
      "        [ 0.0354,  0.0332,  0.0288, -0.1022, -0.0770, -0.1242, -0.1084,  0.0024,\n",
      "          0.0641, -0.0509],\n",
      "        [ 0.0539,  0.0359, -0.0054, -0.0757, -0.0532, -0.1113, -0.0707,  0.0191,\n",
      "          0.0879, -0.0648],\n",
      "        [ 0.0343,  0.0329,  0.0338, -0.1071, -0.0815, -0.1277, -0.1160, -0.0021,\n",
      "          0.0607, -0.0501],\n",
      "        [ 0.0341,  0.0326,  0.0388, -0.1126, -0.0866, -0.1320, -0.1248, -0.0077,\n",
      "          0.0574, -0.0500],\n",
      "        [ 0.0279,  0.0323,  0.0388, -0.1087, -0.0828, -0.1259, -0.1170, -0.0003,\n",
      "          0.0567, -0.0450],\n",
      "        [ 0.0329,  0.0327,  0.0354, -0.1080, -0.0823, -0.1277, -0.1171, -0.0023,\n",
      "          0.0595, -0.0490],\n",
      "        [ 0.0592,  0.0363, -0.0096, -0.0745, -0.0520, -0.1128, -0.0698,  0.0177,\n",
      "          0.0913, -0.0691],\n",
      "        [ 0.0280,  0.0321,  0.0435, -0.1138, -0.0877, -0.1301, -0.1254, -0.0058,\n",
      "          0.0536, -0.0452],\n",
      "        [ 0.0379,  0.0334,  0.0269, -0.1017, -0.0765, -0.1249, -0.1081,  0.0016,\n",
      "          0.0656, -0.0528]], grad_fn=<AddmmBackward0>) \n",
      "\n",
      "Output of layer 3\n",
      "tensor([[0.5094, 0.5083, 0.5069, 0.4744, 0.4807, 0.4687, 0.4727, 0.5003, 0.5163,\n",
      "         0.4868],\n",
      "        [0.5089, 0.5083, 0.5072, 0.4745, 0.4808, 0.4690, 0.4729, 0.5006, 0.5160,\n",
      "         0.4873],\n",
      "        [0.5135, 0.5090, 0.4986, 0.4811, 0.4867, 0.4722, 0.4823, 0.5048, 0.5220,\n",
      "         0.4838],\n",
      "        [0.5086, 0.5082, 0.5085, 0.4732, 0.4796, 0.4681, 0.4710, 0.4995, 0.5152,\n",
      "         0.4875],\n",
      "        [0.5085, 0.5081, 0.5097, 0.4719, 0.4784, 0.4670, 0.4688, 0.4981, 0.5143,\n",
      "         0.4875],\n",
      "        [0.5070, 0.5081, 0.5097, 0.4729, 0.4793, 0.4686, 0.4708, 0.4999, 0.5142,\n",
      "         0.4887],\n",
      "        [0.5082, 0.5082, 0.5088, 0.4730, 0.4794, 0.4681, 0.4708, 0.4994, 0.5149,\n",
      "         0.4877],\n",
      "        [0.5148, 0.5091, 0.4976, 0.4814, 0.4870, 0.4718, 0.4826, 0.5044, 0.5228,\n",
      "         0.4827],\n",
      "        [0.5070, 0.5080, 0.5109, 0.4716, 0.4781, 0.4675, 0.4687, 0.4986, 0.5134,\n",
      "         0.4887],\n",
      "        [0.5095, 0.5083, 0.5067, 0.4746, 0.4809, 0.4688, 0.4730, 0.5004, 0.5164,\n",
      "         0.4868]], grad_fn=<SigmoidBackward0>) \n",
      "\n",
      "Output of layer 4\n",
      "tensor([[-0.1422,  0.4195, -0.0527],\n",
      "        [-0.1423,  0.4196, -0.0529],\n",
      "        [-0.1434,  0.4207, -0.0495],\n",
      "        [-0.1420,  0.4193, -0.0534],\n",
      "        [-0.1417,  0.4189, -0.0538],\n",
      "        [-0.1422,  0.4194, -0.0539],\n",
      "        [-0.1420,  0.4193, -0.0535],\n",
      "        [-0.1432,  0.4207, -0.0491],\n",
      "        [-0.1418,  0.4190, -0.0543],\n",
      "        [-0.1423,  0.4195, -0.0527]], grad_fn=<AddmmBackward0>) \n",
      "\n",
      "Output of layer 5\n",
      "tensor([[0.2599, 0.4558, 0.2843],\n",
      "        [0.2599, 0.4559, 0.2842],\n",
      "        [0.2593, 0.4558, 0.2848],\n",
      "        [0.2600, 0.4558, 0.2841],\n",
      "        [0.2602, 0.4558, 0.2841],\n",
      "        [0.2600, 0.4559, 0.2840],\n",
      "        [0.2600, 0.4558, 0.2841],\n",
      "        [0.2593, 0.4558, 0.2849],\n",
      "        [0.2602, 0.4559, 0.2840],\n",
      "        [0.2599, 0.4558, 0.2843]], grad_fn=<SoftmaxBackward0>) \n",
      "\n"
     ]
    }
   ],
   "source": [
    "# Write your code here\n",
    "scores, probabilities = network.forward(X_train[random_indices], verbose=True)"
   ]
  },
  {
   "cell_type": "markdown",
   "metadata": {},
   "source": [
    "Print the raw scores of random instances in the dataset."
   ]
  },
  {
   "cell_type": "code",
   "execution_count": 107,
   "metadata": {},
   "outputs": [
    {
     "name": "stdout",
     "output_type": "stream",
     "text": [
      "tensor([[-0.1422,  0.4195, -0.0527],\n",
      "        [-0.1423,  0.4196, -0.0529],\n",
      "        [-0.1434,  0.4207, -0.0495],\n",
      "        [-0.1420,  0.4193, -0.0534],\n",
      "        [-0.1417,  0.4189, -0.0538],\n",
      "        [-0.1422,  0.4194, -0.0539],\n",
      "        [-0.1420,  0.4193, -0.0535],\n",
      "        [-0.1432,  0.4207, -0.0491],\n",
      "        [-0.1418,  0.4190, -0.0543],\n",
      "        [-0.1423,  0.4195, -0.0527]], grad_fn=<AddmmBackward0>)\n"
     ]
    }
   ],
   "source": [
    "# Write your code here\n",
    "print(scores)"
   ]
  },
  {
   "cell_type": "markdown",
   "metadata": {},
   "source": [
    "Print the probabilities of random instances in the dataset."
   ]
  },
  {
   "cell_type": "code",
   "execution_count": 108,
   "metadata": {},
   "outputs": [
    {
     "name": "stdout",
     "output_type": "stream",
     "text": [
      "tensor([[0.2599, 0.4558, 0.2843],\n",
      "        [0.2599, 0.4559, 0.2842],\n",
      "        [0.2593, 0.4558, 0.2848],\n",
      "        [0.2600, 0.4558, 0.2841],\n",
      "        [0.2602, 0.4558, 0.2841],\n",
      "        [0.2600, 0.4559, 0.2840],\n",
      "        [0.2600, 0.4558, 0.2841],\n",
      "        [0.2593, 0.4558, 0.2849],\n",
      "        [0.2602, 0.4559, 0.2840],\n",
      "        [0.2599, 0.4558, 0.2843]], grad_fn=<SoftmaxBackward0>)\n"
     ]
    }
   ],
   "source": [
    "# Write your code here\n",
    "print(probabilities)"
   ]
  },
  {
   "cell_type": "markdown",
   "metadata": {},
   "source": [
    "Get the predicted class by calling the function `predict()`. Store the predicted labels in the variable `predictions`."
   ]
  },
  {
   "cell_type": "code",
   "execution_count": 109,
   "metadata": {},
   "outputs": [],
   "source": [
    "# Write your code here\n",
    "predictions = network.predict(probabilities)"
   ]
  },
  {
   "cell_type": "code",
   "execution_count": 110,
   "metadata": {},
   "outputs": [
    {
     "name": "stdout",
     "output_type": "stream",
     "text": [
      "tensor([1, 1, 1, 1, 1, 1, 1, 1, 1, 1])\n"
     ]
    }
   ],
   "source": [
    "print(predictions)"
   ]
  },
  {
   "cell_type": "markdown",
   "metadata": {},
   "source": [
    "**Sanity Check:** All selected training examples are currently being classified under one class."
   ]
  },
  {
   "cell_type": "markdown",
   "metadata": {},
   "source": [
    "<span style=\"color:red;\">**Question 5-9:** Obviously, the predicted class received the highest probability among the other classes. Why are all selected training examples being classified under one class?</span>"
   ]
  },
  {
   "cell_type": "markdown",
   "metadata": {},
   "source": [
    "> The model is using the untrained initial weights, which haven't yet learned to differentiate between classes."
   ]
  },
  {
   "cell_type": "markdown",
   "metadata": {},
   "source": [
    "## Step 5. Calculating the loss\n",
    "\n",
    "Since this is a multinomial classification problem, we need to use cross entropy loss.\n",
    "\n",
    "In PyTorch, we can use `nn.CrossEntropyLoss()` to calculate the cross entropy loss between the raw score output of the model and the target class. You may read the documentation [here](https://pytorch.org/docs/stable/generated/torch.nn.CrossEntropyLoss.html#torch.nn.CrossEntropyLoss)."
   ]
  },
  {
   "cell_type": "markdown",
   "metadata": {},
   "source": [
    "Instantiate a `nn.CrossEntropy()` object. Do not change any default values set as parameter. Assign it to the variable `criterion`."
   ]
  },
  {
   "cell_type": "code",
   "execution_count": 111,
   "metadata": {},
   "outputs": [],
   "source": [
    "# Write your code here\n",
    "criterion = nn.CrossEntropyLoss()"
   ]
  },
  {
   "cell_type": "markdown",
   "metadata": {},
   "source": [
    "Get the target classes of the random training examples from the previous step. Convert the `torch.Tensor` to `torch.long`. This is because `nn.CrossEntropyLoss()` expects the target classes to be represented as a `long` and not `float`. Assign the return value to variable `target_classes`."
   ]
  },
  {
   "cell_type": "code",
   "execution_count": 112,
   "metadata": {},
   "outputs": [],
   "source": [
    "# Write your code here\n",
    "target_classes = y_train[random_indices].long()"
   ]
  },
  {
   "cell_type": "markdown",
   "metadata": {},
   "source": [
    "Compute the loss and assign the return value to variable `loss`.\n",
    "\n",
    "To note, the loss function accepts the score output of the model, not the probabilities. Read the documentation to understand values to pass for the `input` and the `target` parameters."
   ]
  },
  {
   "cell_type": "code",
   "execution_count": 113,
   "metadata": {},
   "outputs": [],
   "source": [
    "# Write your code here\n",
    "loss = criterion(scores, target_classes)"
   ]
  },
  {
   "cell_type": "markdown",
   "metadata": {},
   "source": [
    "Print the loss."
   ]
  },
  {
   "cell_type": "code",
   "execution_count": 114,
   "metadata": {},
   "outputs": [
    {
     "name": "stdout",
     "output_type": "stream",
     "text": [
      "Loss: 1.1638\n"
     ]
    }
   ],
   "source": [
    "print('Loss: {:.4f}'.format(loss.item()))"
   ]
  },
  {
   "cell_type": "markdown",
   "metadata": {},
   "source": [
    "<span style=\"color:red;\">**Question 5-10:** What is the loss in this scenario? Limit to 4 decimal places.</span>"
   ]
  },
  {
   "cell_type": "markdown",
   "metadata": {},
   "source": [
    "> 1.1638"
   ]
  },
  {
   "cell_type": "markdown",
   "metadata": {},
   "source": [
    "## Step 6: Backward propagation for optimizing weights\n",
    "\n",
    "The next step would be to perform backward propagation to update the weights of the model. This will make the model better in classifying the input data. In PyTorch, we can call `backward()` function of the loss module to perform backward propagation. We also need to instantiate an optimizer to update the weights.\n",
    "\n",
    "Read this [documentation](https://pytorch.org/docs/stable/optim.html#taking-an-optimization-step) to learn the general pseudocode for updating weights in PyTorch."
   ]
  },
  {
   "cell_type": "markdown",
   "metadata": {},
   "source": [
    "We will use Adam as our optimizer.\n",
    "\n",
    "Instantiate an `optim.Adam` object. Set the following parameters:\n",
    "- `params` = Set this to the parameters of your network\n",
    "- `lr` = `0.001`"
   ]
  },
  {
   "cell_type": "code",
   "execution_count": 115,
   "metadata": {},
   "outputs": [],
   "source": [
    "# Write your code here\n",
    "optimizer = optim.Adam(params=network.parameters(), lr=0.001)"
   ]
  },
  {
   "cell_type": "markdown",
   "metadata": {},
   "source": [
    "Empty the gradients of the network."
   ]
  },
  {
   "cell_type": "code",
   "execution_count": 116,
   "metadata": {},
   "outputs": [],
   "source": [
    "# Write your code here\n",
    "optimizer.zero_grad()"
   ]
  },
  {
   "cell_type": "markdown",
   "metadata": {},
   "source": [
    "Compute the gradients through backward propagation."
   ]
  },
  {
   "cell_type": "code",
   "execution_count": 117,
   "metadata": {
    "scrolled": true
   },
   "outputs": [],
   "source": [
    "# Write your code here\n",
    "loss.backward()"
   ]
  },
  {
   "cell_type": "markdown",
   "metadata": {},
   "source": [
    "Update the weights."
   ]
  },
  {
   "cell_type": "code",
   "execution_count": 118,
   "metadata": {},
   "outputs": [],
   "source": [
    "# Write your code here\n",
    "optimizer.step()"
   ]
  },
  {
   "cell_type": "markdown",
   "metadata": {},
   "source": [
    "Display the weight of the 1st `nn.Linear` layer in the network after updating."
   ]
  },
  {
   "cell_type": "code",
   "execution_count": 119,
   "metadata": {
    "scrolled": true
   },
   "outputs": [
    {
     "name": "stdout",
     "output_type": "stream",
     "text": [
      "Parameter containing:\n",
      "tensor([[ 0.0402, -0.0214],\n",
      "        [-0.0310, -0.1195],\n",
      "        [ 0.1034, -0.0643],\n",
      "        [ 0.0563,  0.0531],\n",
      "        [-0.0382, -0.1033]], requires_grad=True)\n"
     ]
    }
   ],
   "source": [
    "# Write your code here\n",
    "print(network.layers[0].weight)"
   ]
  },
  {
   "cell_type": "markdown",
   "metadata": {},
   "source": [
    "**Sanity check:** The output of the previous cell should be different from the initial set of weights, which is:\n",
    "\n",
    "```\n",
    "Parameter containing:\n",
    "tensor([[ x.xxxx, x.xxxx],\n",
    "        ...\n",
    "        [ x.xxxx, x.xxxx]], requires_grad=True)```\n",
    "        \n",
    "where `x.xxxx` is some float."
   ]
  },
  {
   "cell_type": "markdown",
   "metadata": {},
   "source": [
    "<span style=\"color:red;\">**Question 5-11:** What is the leftmost value in the weight tensor of the 1st `nn.Linear` layer in the network after updating? Limit to 4 decimal places.</span>"
   ]
  },
  {
   "cell_type": "markdown",
   "metadata": {},
   "source": [
    "> 0.0402"
   ]
  },
  {
   "cell_type": "markdown",
   "metadata": {},
   "source": [
    "## Putting all steps together\n",
    "\n",
    "We will train the model using mini-batch gradient descent. \n",
    "\n",
    "Use the `data_loader.py` file that we implemented in the previous notebook. Import the `DataLoader` class."
   ]
  },
  {
   "cell_type": "code",
   "execution_count": 120,
   "metadata": {},
   "outputs": [],
   "source": [
    "from data_loader import DataLoader"
   ]
  },
  {
   "cell_type": "markdown",
   "metadata": {},
   "source": [
    "Instantiate an `DataLoader` object. Pass the `X` and `y` of the train set and `32` as our `batch_size`. Assign it to the variable `data_loader`."
   ]
  },
  {
   "cell_type": "code",
   "execution_count": 121,
   "metadata": {},
   "outputs": [],
   "source": [
    "# Write your code here\n",
    "data_loader = DataLoader(X_train, y_train, 32)"
   ]
  },
  {
   "cell_type": "markdown",
   "metadata": {},
   "source": [
    "Train your network. Complete the code below."
   ]
  },
  {
   "cell_type": "code",
   "execution_count": 122,
   "metadata": {},
   "outputs": [
    {
     "name": "stdout",
     "output_type": "stream",
     "text": [
      "Epoch: 1 \tLoss: 1.115149\n",
      "Epoch: 2 \tLoss: 1.100188\n",
      "Epoch: 3 \tLoss: 1.096161\n",
      "Epoch: 4 \tLoss: 1.092372\n",
      "Epoch: 5 \tLoss: 1.087015\n",
      "Epoch: 6 \tLoss: 1.079634\n",
      "Epoch: 7 \tLoss: 1.067850\n",
      "Epoch: 8 \tLoss: 1.052415\n",
      "Epoch: 9 \tLoss: 1.031145\n",
      "Epoch: 10 \tLoss: 1.004536\n",
      "Epoch: 11 \tLoss: 0.970554\n",
      "Epoch: 12 \tLoss: 0.929101\n",
      "Epoch: 13 \tLoss: 0.880339\n",
      "Epoch: 14 \tLoss: 0.825428\n",
      "Epoch: 15 \tLoss: 0.764867\n",
      "Epoch: 16 \tLoss: 0.701514\n",
      "Epoch: 17 \tLoss: 0.638213\n",
      "Epoch: 18 \tLoss: 0.576875\n",
      "Epoch: 19 \tLoss: 0.518326\n",
      "Epoch: 20 \tLoss: 0.464125\n",
      "Epoch: 21 \tLoss: 0.414932\n",
      "Epoch: 22 \tLoss: 0.370523\n",
      "Epoch: 23 \tLoss: 0.331353\n",
      "Epoch: 24 \tLoss: 0.296653\n",
      "Epoch: 25 \tLoss: 0.266225\n",
      "Epoch: 26 \tLoss: 0.239588\n",
      "Epoch: 27 \tLoss: 0.216124\n",
      "Epoch: 28 \tLoss: 0.195654\n",
      "Epoch: 29 \tLoss: 0.177895\n",
      "Epoch: 30 \tLoss: 0.162242\n",
      "Epoch: 31 \tLoss: 0.148590\n",
      "Epoch: 32 \tLoss: 0.136579\n",
      "Epoch: 33 \tLoss: 0.125659\n",
      "Epoch: 34 \tLoss: 0.116304\n",
      "Epoch: 35 \tLoss: 0.107667\n",
      "Epoch: 36 \tLoss: 0.100138\n",
      "Epoch: 37 \tLoss: 0.093404\n",
      "Epoch: 38 \tLoss: 0.087345\n",
      "Epoch: 39 \tLoss: 0.081871\n",
      "Epoch: 40 \tLoss: 0.076984\n",
      "Epoch: 41 \tLoss: 0.072537\n",
      "Epoch: 42 \tLoss: 0.068548\n",
      "Epoch: 43 \tLoss: 0.064756\n",
      "Epoch: 44 \tLoss: 0.061493\n",
      "Epoch: 45 \tLoss: 0.058313\n",
      "Epoch: 46 \tLoss: 0.055617\n",
      "Epoch: 47 \tLoss: 0.052952\n",
      "Epoch: 48 \tLoss: 0.050597\n",
      "Epoch: 49 \tLoss: 0.048432\n",
      "Epoch: 50 \tLoss: 0.046398\n",
      "Epoch: 51 \tLoss: 0.044484\n",
      "Epoch: 52 \tLoss: 0.042738\n",
      "Epoch: 53 \tLoss: 0.041194\n",
      "Epoch: 54 \tLoss: 0.039634\n",
      "Epoch: 55 \tLoss: 0.038246\n",
      "Epoch: 56 \tLoss: 0.036947\n",
      "Epoch: 57 \tLoss: 0.035742\n",
      "Epoch: 58 \tLoss: 0.034677\n",
      "Epoch: 59 \tLoss: 0.033658\n",
      "Epoch: 60 \tLoss: 0.032376\n",
      "Epoch: 61 \tLoss: 0.031558\n",
      "Epoch: 62 \tLoss: 0.030558\n",
      "Epoch: 63 \tLoss: 0.029767\n",
      "Epoch: 64 \tLoss: 0.028987\n",
      "Epoch: 65 \tLoss: 0.028284\n",
      "Epoch: 66 \tLoss: 0.027508\n",
      "Epoch: 67 \tLoss: 0.026918\n",
      "Epoch: 68 \tLoss: 0.026247\n",
      "Epoch: 69 \tLoss: 0.025640\n",
      "Epoch: 70 \tLoss: 0.025077\n",
      "Epoch: 71 \tLoss: 0.024730\n",
      "Epoch: 72 \tLoss: 0.024098\n",
      "Epoch: 73 \tLoss: 0.023550\n",
      "Epoch: 74 \tLoss: 0.023128\n",
      "Epoch: 75 \tLoss: 0.022648\n",
      "Epoch: 76 \tLoss: 0.022324\n",
      "Epoch: 77 \tLoss: 0.021938\n",
      "Epoch: 78 \tLoss: 0.021496\n",
      "Epoch: 79 \tLoss: 0.021232\n",
      "Epoch: 80 \tLoss: 0.020798\n",
      "Epoch: 81 \tLoss: 0.020459\n",
      "Epoch: 82 \tLoss: 0.020143\n",
      "Epoch: 83 \tLoss: 0.019910\n",
      "Epoch: 84 \tLoss: 0.019631\n",
      "Epoch: 85 \tLoss: 0.019358\n",
      "Epoch: 86 \tLoss: 0.019047\n",
      "Epoch: 87 \tLoss: 0.018943\n",
      "Epoch: 88 \tLoss: 0.018550\n",
      "Epoch: 89 \tLoss: 0.018460\n",
      "Epoch: 90 \tLoss: 0.018220\n",
      "Epoch: 91 \tLoss: 0.018246\n",
      "Epoch: 92 \tLoss: 0.017795\n",
      "Epoch: 93 \tLoss: 0.017602\n",
      "Epoch: 94 \tLoss: 0.017382\n",
      "Epoch: 95 \tLoss: 0.017269\n",
      "Epoch: 96 \tLoss: 0.017069\n",
      "Epoch: 97 \tLoss: 0.017001\n",
      "Epoch: 98 \tLoss: 0.016805\n",
      "Epoch: 99 \tLoss: 0.016737\n",
      "Epoch: 100 \tLoss: 0.016778\n",
      "Epoch: 101 \tLoss: 0.016296\n",
      "Epoch: 102 \tLoss: 0.016268\n",
      "Epoch: 103 \tLoss: 0.016091\n",
      "Epoch: 104 \tLoss: 0.015984\n",
      "Epoch: 105 \tLoss: 0.015881\n",
      "Epoch: 106 \tLoss: 0.015727\n",
      "Epoch: 107 \tLoss: 0.015634\n",
      "Epoch: 108 \tLoss: 0.015963\n",
      "Epoch: 109 \tLoss: 0.015487\n",
      "Epoch: 110 \tLoss: 0.015325\n",
      "Epoch: 111 \tLoss: 0.015294\n",
      "Epoch: 112 \tLoss: 0.015079\n",
      "Epoch: 113 \tLoss: 0.015169\n",
      "Epoch: 114 \tLoss: 0.014986\n",
      "Epoch: 115 \tLoss: 0.015405\n",
      "Epoch: 116 \tLoss: 0.014921\n",
      "Epoch: 117 \tLoss: 0.014824\n",
      "Epoch: 118 \tLoss: 0.014713\n",
      "Epoch: 119 \tLoss: 0.014613\n",
      "Epoch: 120 \tLoss: 0.014547\n",
      "Epoch: 121 \tLoss: 0.014544\n",
      "Epoch: 122 \tLoss: 0.014521\n",
      "Epoch: 123 \tLoss: 0.014487\n",
      "Epoch: 124 \tLoss: 0.014441\n",
      "Epoch: 125 \tLoss: 0.014300\n",
      "Epoch: 126 \tLoss: 0.014282\n",
      "Epoch: 127 \tLoss: 0.014237\n",
      "Epoch: 128 \tLoss: 0.014053\n",
      "Epoch: 129 \tLoss: 0.014213\n",
      "Epoch: 130 \tLoss: 0.014022\n",
      "Epoch: 131 \tLoss: 0.014079\n",
      "Epoch: 132 \tLoss: 0.013977\n",
      "Epoch: 133 \tLoss: 0.013917\n",
      "Epoch: 134 \tLoss: 0.013911\n",
      "Epoch: 135 \tLoss: 0.013932\n",
      "Epoch: 136 \tLoss: 0.013842\n",
      "Epoch: 137 \tLoss: 0.013772\n",
      "Epoch: 138 \tLoss: 0.013733\n",
      "Epoch: 139 \tLoss: 0.013905\n",
      "Epoch: 140 \tLoss: 0.013852\n",
      "Epoch: 141 \tLoss: 0.013653\n",
      "Epoch: 142 \tLoss: 0.013679\n",
      "Epoch: 143 \tLoss: 0.013687\n",
      "Epoch: 144 \tLoss: 0.013537\n",
      "Epoch: 145 \tLoss: 0.013877\n",
      "Epoch: 146 \tLoss: 0.013528\n",
      "Epoch: 147 \tLoss: 0.013392\n",
      "Epoch: 148 \tLoss: 0.013423\n",
      "Epoch: 149 \tLoss: 0.013371\n",
      "Epoch: 150 \tLoss: 0.013433\n",
      "Epoch: 151 \tLoss: 0.013325\n",
      "Epoch: 152 \tLoss: 0.013568\n",
      "Epoch: 153 \tLoss: 0.013291\n",
      "Epoch: 154 \tLoss: 0.013261\n",
      "Epoch: 155 \tLoss: 0.013254\n",
      "Epoch: 156 \tLoss: 0.013351\n",
      "Epoch: 157 \tLoss: 0.013232\n",
      "Epoch: 158 \tLoss: 0.013153\n",
      "Epoch: 159 \tLoss: 0.013162\n",
      "Epoch: 160 \tLoss: 0.013075\n",
      "Epoch: 161 \tLoss: 0.013132\n",
      "Epoch: 162 \tLoss: 0.013178\n",
      "Epoch: 163 \tLoss: 0.013119\n",
      "Epoch: 164 \tLoss: 0.013076\n",
      "Epoch: 165 \tLoss: 0.013027\n",
      "Epoch: 166 \tLoss: 0.013124\n",
      "Epoch: 167 \tLoss: 0.013027\n",
      "Epoch: 168 \tLoss: 0.013252\n",
      "Epoch: 169 \tLoss: 0.013311\n",
      "Epoch: 170 \tLoss: 0.012962\n",
      "Epoch: 171 \tLoss: 0.013054\n",
      "Epoch: 172 \tLoss: 0.012956\n",
      "Epoch: 173 \tLoss: 0.012899\n",
      "Epoch: 174 \tLoss: 0.013220\n",
      "Epoch: 175 \tLoss: 0.012960\n",
      "Epoch: 176 \tLoss: 0.013000\n",
      "Epoch: 177 \tLoss: 0.012960\n",
      "Epoch: 178 \tLoss: 0.012966\n",
      "Epoch: 179 \tLoss: 0.012895\n",
      "Epoch: 180 \tLoss: 0.012907\n",
      "Epoch: 181 \tLoss: 0.013065\n",
      "Epoch: 182 \tLoss: 0.012941\n",
      "Epoch: 183 \tLoss: 0.013064\n",
      "Epoch: 184 \tLoss: 0.012834\n",
      "Epoch: 185 \tLoss: 0.012823\n",
      "Epoch: 186 \tLoss: 0.012893\n",
      "Epoch: 187 \tLoss: 0.012808\n",
      "Epoch: 188 \tLoss: 0.012824\n",
      "Epoch: 189 \tLoss: 0.012818\n",
      "Epoch: 190 \tLoss: 0.013256\n",
      "Epoch: 191 \tLoss: 0.012754\n",
      "Epoch: 192 \tLoss: 0.012796\n",
      "Epoch: 193 \tLoss: 0.012780\n",
      "Epoch: 194 \tLoss: 0.012868\n",
      "Epoch: 195 \tLoss: 0.012771\n",
      "Epoch: 196 \tLoss: 0.012694\n",
      "Epoch: 197 \tLoss: 0.012733\n",
      "Epoch: 198 \tLoss: 0.012912\n",
      "Epoch: 199 \tLoss: 0.012831\n",
      "Epoch: 200 \tLoss: 0.012865\n",
      "Epoch: 201 \tLoss: 0.012671\n"
     ]
    }
   ],
   "source": [
    "e = 0\n",
    "max_epochs = 400\n",
    "is_converged = False\n",
    "previous_loss = 0\n",
    "losses = []\n",
    "\n",
    "# For each epoch\n",
    "while e < max_epochs and is_converged is not True:\n",
    "    \n",
    "    current_epoch_loss = 0\n",
    "    \n",
    "    # TODO: Get the batch for this epoch.\n",
    "    X_batch, y_batch = data_loader.get_batch()\n",
    "    \n",
    "    # For each batch\n",
    "    for X, y in zip(X_batch, y_batch):\n",
    "        X = torch.Tensor(X)\n",
    "        y = torch.Tensor(y).to(torch.long)\n",
    "        \n",
    "        # TODO: Empty the gradients of the network.\n",
    "        optimizer.zero_grad()\n",
    "        \n",
    "        # TODO: Forward propagation\n",
    "        scores, probabilities = network.forward(X)\n",
    "        \n",
    "        # TODO: Compute the loss\n",
    "        loss = criterion(scores, y)\n",
    "        \n",
    "        # TODO: Backward propagation\n",
    "        loss.backward()\n",
    "        \n",
    "        # TODO: Update parameters\n",
    "        optimizer.step()\n",
    "        \n",
    "        current_epoch_loss += loss.item()\n",
    "    \n",
    "    average_loss = current_epoch_loss / len(X_batch)\n",
    "    losses.append(average_loss)\n",
    "    \n",
    "    # Display the average loss per epoch\n",
    "    print('Epoch:', e + 1, '\\tLoss: {:.6f}'.format(average_loss))\n",
    "    \n",
    "    if abs(previous_loss - loss) < 0.00005:\n",
    "        is_converged = True\n",
    "    else:\n",
    "        previous_loss = loss\n",
    "        e += 1"
   ]
  },
  {
   "cell_type": "markdown",
   "metadata": {},
   "source": [
    "<span style=\"color:red;\">**Question 5-12:** How many epochs did the model train before convergence?</span>"
   ]
  },
  {
   "cell_type": "markdown",
   "metadata": {},
   "source": [
    "> 201"
   ]
  },
  {
   "cell_type": "markdown",
   "metadata": {},
   "source": [
    "<span style=\"color:red;\">**Question 5-13:** What is the average loss at the last epoch? Limit to four decimal places.</span>"
   ]
  },
  {
   "cell_type": "markdown",
   "metadata": {},
   "source": [
    "> 0.0127"
   ]
  },
  {
   "cell_type": "markdown",
   "metadata": {},
   "source": [
    "## Try our trained network on the test data\n",
    "\n",
    "Set the network in test `eval` mode first, to avoid updating the weights."
   ]
  },
  {
   "cell_type": "code",
   "execution_count": 123,
   "metadata": {},
   "outputs": [
    {
     "data": {
      "text/plain": [
       "NeuralNetwork(\n",
       "  (layers): Sequential(\n",
       "    (0): Linear(in_features=2, out_features=5, bias=True)\n",
       "    (1): Sigmoid()\n",
       "    (2): Linear(in_features=5, out_features=10, bias=True)\n",
       "    (3): Sigmoid()\n",
       "    (4): Linear(in_features=10, out_features=3, bias=True)\n",
       "    (5): Softmax(dim=1)\n",
       "  )\n",
       ")"
      ]
     },
     "execution_count": 123,
     "metadata": {},
     "output_type": "execute_result"
    }
   ],
   "source": [
    "network.eval()"
   ]
  },
  {
   "cell_type": "markdown",
   "metadata": {},
   "source": [
    "Perform forward propagation on the test data. Assign the return values to variables `scores` and `probabilities`."
   ]
  },
  {
   "cell_type": "code",
   "execution_count": 124,
   "metadata": {},
   "outputs": [],
   "source": [
    "# Write your code here\n",
    "scores, probabilities = network.forward(X_test)"
   ]
  },
  {
   "cell_type": "markdown",
   "metadata": {},
   "source": [
    "Now, let's get the prediction results on the test data to see if our model can handle unseen instances. Store the predicted labels in the variable `predictions`."
   ]
  },
  {
   "cell_type": "code",
   "execution_count": 125,
   "metadata": {},
   "outputs": [],
   "source": [
    "# Write your code here\n",
    "predictions = network.predict(probabilities)"
   ]
  },
  {
   "cell_type": "code",
   "execution_count": 126,
   "metadata": {},
   "outputs": [
    {
     "name": "stdout",
     "output_type": "stream",
     "text": [
      "tensor([0, 0, 0, 0, 0, 0, 0, 0, 0, 0, 0, 0, 0, 0, 0, 0, 0, 0, 0, 0, 0, 0, 0, 0,\n",
      "        0, 0, 0, 0, 0, 0, 0, 0, 0, 0, 0, 0, 0, 0, 0, 0, 0, 0, 0, 0, 0, 0, 0, 0,\n",
      "        0, 0, 1, 1, 1, 1, 1, 1, 1, 1, 1, 1, 1, 1, 1, 1, 1, 1, 1, 1, 1, 1, 1, 1,\n",
      "        1, 1, 1, 1, 1, 1, 1, 1, 1, 1, 1, 1, 1, 1, 1, 1, 1, 1, 1, 1, 1, 1, 1, 1,\n",
      "        1, 1, 1, 1, 2, 2, 2, 2, 2, 2, 2, 2, 2, 2, 2, 2, 2, 2, 2, 2, 2, 2, 2, 2,\n",
      "        2, 2, 2, 2, 2, 2, 2, 2, 2, 2, 2, 2, 2, 2, 2, 2, 2, 2, 2, 2, 2, 2, 2, 2,\n",
      "        2, 2, 2, 2, 2, 2])\n"
     ]
    }
   ],
   "source": [
    "print(predictions)"
   ]
  },
  {
   "cell_type": "markdown",
   "metadata": {},
   "source": [
    "Compare the ground truth labels with the predicted labels. Store the total number of correct predictions in the variable `num_correct`."
   ]
  },
  {
   "cell_type": "code",
   "execution_count": 127,
   "metadata": {},
   "outputs": [],
   "source": [
    "# Write your code here\n",
    "num_correct = sum(y_test == predictions)"
   ]
  },
  {
   "cell_type": "code",
   "execution_count": 128,
   "metadata": {},
   "outputs": [
    {
     "name": "stdout",
     "output_type": "stream",
     "text": [
      "tensor(150)\n"
     ]
    }
   ],
   "source": [
    "print(num_correct)"
   ]
  },
  {
   "cell_type": "markdown",
   "metadata": {},
   "source": [
    "Compute for the accuracy. Store the accuracy in the variable `accuracy`."
   ]
  },
  {
   "cell_type": "code",
   "execution_count": 129,
   "metadata": {},
   "outputs": [],
   "source": [
    "# Write your code here\n",
    "accuracy = num_correct / len(y_test)"
   ]
  },
  {
   "cell_type": "code",
   "execution_count": 130,
   "metadata": {},
   "outputs": [
    {
     "name": "stdout",
     "output_type": "stream",
     "text": [
      "1.0000\n"
     ]
    }
   ],
   "source": [
    "print('{:.4f}'.format(accuracy))"
   ]
  },
  {
   "cell_type": "markdown",
   "metadata": {},
   "source": [
    "<span style=\"color:red;\">**Question 5-14:** What is the accuracy of the network when evaluated on the test set? Express your answer in a floating point number from 0 to 1. Limit to 4 decimal places.</span>"
   ]
  },
  {
   "cell_type": "markdown",
   "metadata": {},
   "source": [
    "> 1.0000"
   ]
  },
  {
   "cell_type": "markdown",
   "metadata": {},
   "source": [
    "Let's visualize the loss for each training epoch."
   ]
  },
  {
   "cell_type": "code",
   "execution_count": 131,
   "metadata": {},
   "outputs": [
    {
     "data": {
      "text/plain": [
       "Text(0.5, 1.0, 'Loss for each training epoch')"
      ]
     },
     "execution_count": 131,
     "metadata": {},
     "output_type": "execute_result"
    },
    {
     "data": {
      "image/png": "[encoded data removed]",
      "text/plain": [
       "<Figure size 800x800 with 1 Axes>"
      ]
     },
     "metadata": {},
     "output_type": "display_data"
    }
   ],
   "source": [
    "x_values = [i for i in range(len(losses))]\n",
    "y_values = losses\n",
    "\n",
    "plt.plot(x_values, y_values)\n",
    "plt.xlabel('Epochs')\n",
    "plt.ylabel('Loss')\n",
    "plt.title('Loss for each training epoch')"
   ]
  },
  {
   "cell_type": "markdown",
   "metadata": {},
   "source": [
    "<span style=\"color:green;\">**Question:** Around what epoch did our training converge, i.e., when there are minimal changes in the value of the loss?</span>"
   ]
  },
  {
   "cell_type": "markdown",
   "metadata": {},
   "source": [
    "> 201"
   ]
  },
  {
   "cell_type": "markdown",
   "metadata": {},
   "source": [
    "# Iris Dataset\n",
    "We will use the Iris dataset as our dataset. Each instance represents an Iris flower using 4 distinct features:\n",
    "- `sepal_length` - length of the sepal in centimeters\n",
    "- `sepal_width` - width of the sepal in centimeters\n",
    "- `petal_length` - length of the petal in centimeters\n",
    "- `petal_width` - width of the petal in centimeters\n",
    "\n",
    "Iris flowers can be 3 divided into different classes, which are:\n",
    "- `Iris-setosa` - class `0`\n",
    "- `Iris-versicolor` - class `1`\n",
    "- `Iris-virginica` - class `2`"
   ]
  },
  {
   "cell_type": "markdown",
   "metadata": {},
   "source": [
    "Let's load `Iris.csv`."
   ]
  },
  {
   "cell_type": "code",
   "execution_count": 132,
   "metadata": {},
   "outputs": [
    {
     "name": "stdout",
     "output_type": "stream",
     "text": [
      "Training data shape: (150, 4)\n",
      "Ground truth values shape: (150,)\n"
     ]
    }
   ],
   "source": [
    "classes = {\n",
    "    'Iris-setosa': 0,\n",
    "    'Iris-versicolor': 1,\n",
    "    'Iris-virginica': 2\n",
    "}\n",
    "\n",
    "with open('Iris.csv', 'r') as csv_file:\n",
    "    raw_data = csv.reader(csv_file)\n",
    "    X_iris = np.empty((0, 4), float)\n",
    "    y_iris = np.empty((0, 1), int)\n",
    "    for row in raw_data:\n",
    "        X_iris = np.vstack([X_iris, np.array([float(row[0]),     # column for sepal_length\n",
    "                                              float(row[1]),     # column for sepal_width\n",
    "                                              float(row[2]),     # column for petal_length\n",
    "                                              float(row[3])])])  # column for petal_width\n",
    "        \n",
    "        y_iris = np.append(y_iris, np.array([classes[row[4]]]))  # column for class\n",
    "\n",
    "# This transforms the vector of length N into a matrix with shape (N, 1)\n",
    "y_house = np.expand_dims(y_iris, 1) \n",
    "\n",
    "print('Training data shape:', X_iris.shape)\n",
    "print('Ground truth values shape:', y_iris.shape)"
   ]
  },
  {
   "cell_type": "markdown",
   "metadata": {},
   "source": [
    "Let's get the number of instances per class."
   ]
  },
  {
   "cell_type": "code",
   "execution_count": 133,
   "metadata": {},
   "outputs": [
    {
     "name": "stdout",
     "output_type": "stream",
     "text": [
      "Number of class 0: 50\n",
      "Number of class 1: 50\n",
      "Number of class 2: 50\n"
     ]
    }
   ],
   "source": [
    "X_iris_0 = X_iris[y_iris == 0]\n",
    "X_iris_1 = X_iris[y_iris == 1]\n",
    "X_iris_2 = X_iris[y_iris == 2]\n",
    "\n",
    "print('Number of class 0:', len(X_iris_0))\n",
    "print('Number of class 1:', len(X_iris_1))\n",
    "print('Number of class 2:', len(X_iris_2))"
   ]
  },
  {
   "cell_type": "markdown",
   "metadata": {},
   "source": [
    "There are 50 instances for each class."
   ]
  },
  {
   "cell_type": "markdown",
   "metadata": {},
   "source": [
    "Let's divide the dataset into train and test set. The test set will contain 10 instances for each class."
   ]
  },
  {
   "cell_type": "code",
   "execution_count": 134,
   "metadata": {},
   "outputs": [
    {
     "name": "stdout",
     "output_type": "stream",
     "text": [
      "(30, 4)\n",
      "(30,)\n"
     ]
    }
   ],
   "source": [
    "np.random.seed(1)\n",
    "\n",
    "# Select 10 `class 0` instances\n",
    "selected_0 = np.random.choice(np.arange(len(X_iris_0)),\n",
    "                              size=10,\n",
    "                              replace=False)\n",
    "\n",
    "# Select 10 `class 1` instances\n",
    "selected_1 = np.random.choice(np.arange(len(X_iris_1)),\n",
    "                              size=10,\n",
    "                              replace=False)\n",
    "\n",
    "# Select 10 `class 2` instances\n",
    "selected_2 = np.random.choice(np.arange(len(X_iris_2)),\n",
    "                              size=10,\n",
    "                              replace=False)\n",
    "\n",
    "# Form the test set\n",
    "X_test = np.concatenate((X_iris_0[selected_0],\n",
    "                         X_iris_1[selected_1],\n",
    "                         X_iris_2[selected_2]))\n",
    "y_test = np.concatenate((np.array([0 for _ in range(10)]),\n",
    "                         np.array([1 for _ in range(10)]),\n",
    "                         np.array([2 for _ in range(10)])))\n",
    "\n",
    "print(X_test.shape)\n",
    "print(y_test.shape)"
   ]
  },
  {
   "cell_type": "markdown",
   "metadata": {},
   "source": [
    "The remaining 120 instances will be a part of the train set, where each class has 40 instances."
   ]
  },
  {
   "cell_type": "code",
   "execution_count": 135,
   "metadata": {},
   "outputs": [
    {
     "name": "stdout",
     "output_type": "stream",
     "text": [
      "(120, 4)\n",
      "(120,)\n"
     ]
    }
   ],
   "source": [
    "X_train = np.concatenate((np.delete(X_iris_0, selected_0, 0),\n",
    "                          np.delete(X_iris_1, selected_1, 0),\n",
    "                          np.delete(X_iris_2, selected_2, 0)))\n",
    "y_train = np.concatenate((np.array([0 for _ in range(40)]),\n",
    "                          np.array([1 for _ in range(40)]),\n",
    "                          np.array([2 for _ in range(40)])))\n",
    "\n",
    "print(X_train.shape)\n",
    "print(y_train.shape)"
   ]
  },
  {
   "cell_type": "markdown",
   "metadata": {},
   "source": [
    "Convert the `np.ndarray` arrays to `torch.Tensor`. We use `torch.Tensor` in PyTorch."
   ]
  },
  {
   "cell_type": "markdown",
   "metadata": {},
   "source": [
    "Convert the variable `X_train` to the datatype `torch.Tensor` and assign the return value to variable `X_train`."
   ]
  },
  {
   "cell_type": "code",
   "execution_count": 136,
   "metadata": {},
   "outputs": [],
   "source": [
    "# Write your code here\n",
    "X_train = torch.Tensor(X_train)"
   ]
  },
  {
   "cell_type": "markdown",
   "metadata": {},
   "source": [
    "Convert the variable `y_train` to the datatype `torch.Tensor` and assign the return value to variable `y_train`."
   ]
  },
  {
   "cell_type": "code",
   "execution_count": 137,
   "metadata": {},
   "outputs": [],
   "source": [
    "# Write your code here\n",
    "y_train = torch.Tensor(y_train)"
   ]
  },
  {
   "cell_type": "markdown",
   "metadata": {},
   "source": [
    "Convert the variable `X_test` to the datatype `torch.Tensor` and assign the return value to variable `X_test`."
   ]
  },
  {
   "cell_type": "code",
   "execution_count": 138,
   "metadata": {},
   "outputs": [],
   "source": [
    "# Write your code here\n",
    "X_test = torch.Tensor(X_test)"
   ]
  },
  {
   "cell_type": "markdown",
   "metadata": {},
   "source": [
    "Convert the variable `y_test` to the datatype `torch.Tensor` and assign the return value to variable `y_test`."
   ]
  },
  {
   "cell_type": "code",
   "execution_count": 139,
   "metadata": {},
   "outputs": [],
   "source": [
    "# Write your code here\n",
    "y_test = torch.Tensor(y_test)"
   ]
  },
  {
   "cell_type": "markdown",
   "metadata": {},
   "source": [
    "## Setting up the training pipeline\n",
    "\n",
    "Set-up the following:\n",
    "- Network\n",
    "- Optimizer\n",
    "- Loss function\n",
    "- Data loader"
   ]
  },
  {
   "cell_type": "markdown",
   "metadata": {},
   "source": [
    "Instantiate a `NeuralNetwork` object. Set the following parameters:\n",
    "- `list_hidden` = (5, 10)\n",
    "- `activation` = `sigmoid`\n",
    "\n",
    "Here, we are creating a Neural Network with two hidden layers, where there are 5 units in the first layer and 10 units in the second layer.\n",
    "\n",
    "Set the other parameters according to the Iris dataset."
   ]
  },
  {
   "cell_type": "code",
   "execution_count": 140,
   "metadata": {
    "scrolled": true
   },
   "outputs": [],
   "source": [
    "# Write your code here\n",
    "list_hidden = [5, 10]\n",
    "activation = \"sigmoid\"\n",
    "\n",
    "network = NeuralNetwork(4, 3, list_hidden, activation)"
   ]
  },
  {
   "cell_type": "markdown",
   "metadata": {},
   "source": [
    "Create the network and initialize the weights."
   ]
  },
  {
   "cell_type": "code",
   "execution_count": 141,
   "metadata": {},
   "outputs": [],
   "source": [
    "# Write your code here\n",
    "network.create_network()\n",
    "network.init_weights()"
   ]
  },
  {
   "cell_type": "markdown",
   "metadata": {},
   "source": [
    "Display the structure of the neural network."
   ]
  },
  {
   "cell_type": "code",
   "execution_count": 142,
   "metadata": {},
   "outputs": [
    {
     "name": "stdout",
     "output_type": "stream",
     "text": [
      "NeuralNetwork(\n",
      "  (layers): Sequential(\n",
      "    (0): Linear(in_features=4, out_features=5, bias=True)\n",
      "    (1): Sigmoid()\n",
      "    (2): Linear(in_features=5, out_features=10, bias=True)\n",
      "    (3): Sigmoid()\n",
      "    (4): Linear(in_features=10, out_features=3, bias=True)\n",
      "    (5): Softmax(dim=1)\n",
      "  )\n",
      ")\n"
     ]
    }
   ],
   "source": [
    "# Write your code here\n",
    "print(network)"
   ]
  },
  {
   "cell_type": "markdown",
   "metadata": {},
   "source": [
    "<span style=\"color:red;\">**Question 5-15:** Give the value of the `in_features` of the first `nn.Linear` module (Index 0).</span>"
   ]
  },
  {
   "cell_type": "markdown",
   "metadata": {},
   "source": [
    "> 4"
   ]
  },
  {
   "cell_type": "markdown",
   "metadata": {},
   "source": [
    "<span style=\"color:red;\">**Question 5-16:** Give the value of the `out_features` of the last `nn.Linear` module (Index 4).</span>"
   ]
  },
  {
   "cell_type": "markdown",
   "metadata": {},
   "source": [
    "> 3"
   ]
  },
  {
   "cell_type": "markdown",
   "metadata": {},
   "source": [
    "We will use Adam as our optimizer.\n",
    "\n",
    "Instantiate an `optim.Adam` object. Set the following parameters:\n",
    "- `params` = Set this to the parameters of your network\n",
    "- `lr` = `0.001`"
   ]
  },
  {
   "cell_type": "code",
   "execution_count": 143,
   "metadata": {},
   "outputs": [],
   "source": [
    "# Write your code here\n",
    "optimizer = optim.Adam(params=network.parameters(), lr=0.001)"
   ]
  },
  {
   "cell_type": "markdown",
   "metadata": {},
   "source": [
    "Instantiate a `nn.CrossEntropy()` object. Do not change any default values set as parameter. Assign it to the variable `criterion`."
   ]
  },
  {
   "cell_type": "code",
   "execution_count": 144,
   "metadata": {},
   "outputs": [],
   "source": [
    "# Write your code here\n",
    "criterion = nn.CrossEntropyLoss()"
   ]
  },
  {
   "cell_type": "markdown",
   "metadata": {},
   "source": [
    "We will train the model using mini-batch gradient descent. \n",
    "\n",
    "Instantiate a `DataLoader` object. Pass the `X` and `y` of the train set and `32` as our `batch_size`. Assign it to the variable `data_loader`."
   ]
  },
  {
   "cell_type": "code",
   "execution_count": 145,
   "metadata": {},
   "outputs": [],
   "source": [
    "# Write your code here\n",
    "data_loader = DataLoader(X_train, y_train, 32)"
   ]
  },
  {
   "cell_type": "markdown",
   "metadata": {},
   "source": [
    "## Training the network\n",
    "\n",
    "Train your network. Complete the code below."
   ]
  },
  {
   "cell_type": "code",
   "execution_count": 146,
   "metadata": {},
   "outputs": [
    {
     "name": "stdout",
     "output_type": "stream",
     "text": [
      "Epoch: 1 \tLoss: 1.104074\n",
      "Epoch: 2 \tLoss: 1.101355\n",
      "Epoch: 3 \tLoss: 1.101011\n",
      "Epoch: 4 \tLoss: 1.100092\n",
      "Epoch: 5 \tLoss: 1.100254\n",
      "Epoch: 6 \tLoss: 1.099174\n",
      "Epoch: 7 \tLoss: 1.098550\n",
      "Epoch: 8 \tLoss: 1.098167\n",
      "Epoch: 9 \tLoss: 1.097959\n",
      "Epoch: 10 \tLoss: 1.097678\n",
      "Epoch: 11 \tLoss: 1.097428\n",
      "Epoch: 12 \tLoss: 1.097114\n",
      "Epoch: 13 \tLoss: 1.096847\n",
      "Epoch: 14 \tLoss: 1.096763\n",
      "Epoch: 15 \tLoss: 1.096608\n",
      "Epoch: 16 \tLoss: 1.096368\n",
      "Epoch: 17 \tLoss: 1.096132\n",
      "Epoch: 18 \tLoss: 1.095962\n",
      "Epoch: 19 \tLoss: 1.095682\n",
      "Epoch: 20 \tLoss: 1.095416\n",
      "Epoch: 21 \tLoss: 1.095172\n",
      "Epoch: 22 \tLoss: 1.094897\n",
      "Epoch: 23 \tLoss: 1.094585\n",
      "Epoch: 24 \tLoss: 1.094254\n",
      "Epoch: 25 \tLoss: 1.094017\n",
      "Epoch: 26 \tLoss: 1.093586\n",
      "Epoch: 27 \tLoss: 1.093105\n",
      "Epoch: 28 \tLoss: 1.092706\n",
      "Epoch: 29 \tLoss: 1.092297\n",
      "Epoch: 30 \tLoss: 1.091794\n",
      "Epoch: 31 \tLoss: 1.091212\n",
      "Epoch: 32 \tLoss: 1.090706\n",
      "Epoch: 33 \tLoss: 1.090277\n",
      "Epoch: 34 \tLoss: 1.089601\n",
      "Epoch: 35 \tLoss: 1.088924\n",
      "Epoch: 36 \tLoss: 1.088247\n",
      "Epoch: 37 \tLoss: 1.087659\n",
      "Epoch: 38 \tLoss: 1.086767\n",
      "Epoch: 39 \tLoss: 1.086214\n",
      "Epoch: 40 \tLoss: 1.085074\n",
      "Epoch: 41 \tLoss: 1.084165\n",
      "Epoch: 42 \tLoss: 1.083464\n",
      "Epoch: 43 \tLoss: 1.082396\n",
      "Epoch: 44 \tLoss: 1.081253\n",
      "Epoch: 45 \tLoss: 1.080363\n",
      "Epoch: 46 \tLoss: 1.079201\n",
      "Epoch: 47 \tLoss: 1.077676\n",
      "Epoch: 48 \tLoss: 1.076479\n",
      "Epoch: 49 \tLoss: 1.075152\n",
      "Epoch: 50 \tLoss: 1.073521\n",
      "Epoch: 51 \tLoss: 1.072158\n",
      "Epoch: 52 \tLoss: 1.070669\n",
      "Epoch: 53 \tLoss: 1.068536\n",
      "Epoch: 54 \tLoss: 1.066917\n",
      "Epoch: 55 \tLoss: 1.065036\n",
      "Epoch: 56 \tLoss: 1.062999\n",
      "Epoch: 57 \tLoss: 1.060858\n",
      "Epoch: 58 \tLoss: 1.058637\n",
      "Epoch: 59 \tLoss: 1.056692\n",
      "Epoch: 60 \tLoss: 1.054622\n",
      "Epoch: 61 \tLoss: 1.050867\n",
      "Epoch: 62 \tLoss: 1.048883\n",
      "Epoch: 63 \tLoss: 1.045344\n",
      "Epoch: 64 \tLoss: 1.042781\n",
      "Epoch: 65 \tLoss: 1.039644\n",
      "Epoch: 66 \tLoss: 1.036794\n",
      "Epoch: 67 \tLoss: 1.032867\n",
      "Epoch: 68 \tLoss: 1.029572\n",
      "Epoch: 69 \tLoss: 1.025349\n",
      "Epoch: 70 \tLoss: 1.020663\n",
      "Epoch: 71 \tLoss: 1.017561\n",
      "Epoch: 72 \tLoss: 1.012249\n",
      "Epoch: 73 \tLoss: 1.009841\n",
      "Epoch: 74 \tLoss: 1.004194\n",
      "Epoch: 75 \tLoss: 0.999763\n",
      "Epoch: 76 \tLoss: 0.994714\n",
      "Epoch: 77 \tLoss: 0.989750\n",
      "Epoch: 78 \tLoss: 0.983381\n",
      "Epoch: 79 \tLoss: 0.977316\n",
      "Epoch: 80 \tLoss: 0.971553\n",
      "Epoch: 81 \tLoss: 0.968353\n",
      "Epoch: 82 \tLoss: 0.960969\n",
      "Epoch: 83 \tLoss: 0.954519\n",
      "Epoch: 84 \tLoss: 0.948769\n",
      "Epoch: 85 \tLoss: 0.942030\n",
      "Epoch: 86 \tLoss: 0.935539\n",
      "Epoch: 87 \tLoss: 0.928334\n",
      "Epoch: 88 \tLoss: 0.923390\n",
      "Epoch: 89 \tLoss: 0.915563\n",
      "Epoch: 90 \tLoss: 0.909519\n",
      "Epoch: 91 \tLoss: 0.897273\n",
      "Epoch: 92 \tLoss: 0.891611\n",
      "Epoch: 93 \tLoss: 0.886534\n",
      "Epoch: 94 \tLoss: 0.881612\n",
      "Epoch: 95 \tLoss: 0.872850\n",
      "Epoch: 96 \tLoss: 0.867598\n",
      "Epoch: 97 \tLoss: 0.856620\n",
      "Epoch: 98 \tLoss: 0.848753\n",
      "Epoch: 99 \tLoss: 0.844346\n",
      "Epoch: 100 \tLoss: 0.833209\n",
      "Epoch: 101 \tLoss: 0.825871\n",
      "Epoch: 102 \tLoss: 0.817994\n",
      "Epoch: 103 \tLoss: 0.811556\n",
      "Epoch: 104 \tLoss: 0.807881\n",
      "Epoch: 105 \tLoss: 0.798051\n",
      "Epoch: 106 \tLoss: 0.793682\n",
      "Epoch: 107 \tLoss: 0.786991\n",
      "Epoch: 108 \tLoss: 0.777049\n",
      "Epoch: 109 \tLoss: 0.770946\n",
      "Epoch: 110 \tLoss: 0.764056\n",
      "Epoch: 111 \tLoss: 0.758377\n",
      "Epoch: 112 \tLoss: 0.747078\n",
      "Epoch: 113 \tLoss: 0.742028\n",
      "Epoch: 114 \tLoss: 0.734278\n",
      "Epoch: 115 \tLoss: 0.726442\n",
      "Epoch: 116 \tLoss: 0.722978\n",
      "Epoch: 117 \tLoss: 0.710732\n",
      "Epoch: 118 \tLoss: 0.710106\n",
      "Epoch: 119 \tLoss: 0.702527\n",
      "Epoch: 120 \tLoss: 0.697596\n",
      "Epoch: 121 \tLoss: 0.690622\n",
      "Epoch: 122 \tLoss: 0.688023\n",
      "Epoch: 123 \tLoss: 0.682662\n",
      "Epoch: 124 \tLoss: 0.675716\n",
      "Epoch: 125 \tLoss: 0.670267\n",
      "Epoch: 126 \tLoss: 0.663880\n",
      "Epoch: 127 \tLoss: 0.659202\n",
      "Epoch: 128 \tLoss: 0.656289\n",
      "Epoch: 129 \tLoss: 0.653567\n",
      "Epoch: 130 \tLoss: 0.645083\n",
      "Epoch: 131 \tLoss: 0.638786\n",
      "Epoch: 132 \tLoss: 0.635055\n",
      "Epoch: 133 \tLoss: 0.632831\n",
      "Epoch: 134 \tLoss: 0.633421\n",
      "Epoch: 135 \tLoss: 0.626477\n",
      "Epoch: 136 \tLoss: 0.617179\n",
      "Epoch: 137 \tLoss: 0.616139\n",
      "Epoch: 138 \tLoss: 0.612243\n",
      "Epoch: 139 \tLoss: 0.611422\n",
      "Epoch: 140 \tLoss: 0.606270\n",
      "Epoch: 141 \tLoss: 0.603232\n",
      "Epoch: 142 \tLoss: 0.599914\n",
      "Epoch: 143 \tLoss: 0.594693\n",
      "Epoch: 144 \tLoss: 0.590305\n",
      "Epoch: 145 \tLoss: 0.591241\n",
      "Epoch: 146 \tLoss: 0.589528\n",
      "Epoch: 147 \tLoss: 0.582941\n",
      "Epoch: 148 \tLoss: 0.576930\n",
      "Epoch: 149 \tLoss: 0.574934\n",
      "Epoch: 150 \tLoss: 0.579592\n",
      "Epoch: 151 \tLoss: 0.576648\n",
      "Epoch: 152 \tLoss: 0.568548\n",
      "Epoch: 153 \tLoss: 0.569848\n",
      "Epoch: 154 \tLoss: 0.571477\n",
      "Epoch: 155 \tLoss: 0.561435\n",
      "Epoch: 156 \tLoss: 0.563757\n",
      "Epoch: 157 \tLoss: 0.555888\n",
      "Epoch: 158 \tLoss: 0.556448\n",
      "Epoch: 159 \tLoss: 0.554588\n",
      "Epoch: 160 \tLoss: 0.553885\n",
      "Epoch: 161 \tLoss: 0.546099\n",
      "Epoch: 162 \tLoss: 0.548050\n",
      "Epoch: 163 \tLoss: 0.546996\n",
      "Epoch: 164 \tLoss: 0.541852\n",
      "Epoch: 165 \tLoss: 0.546162\n",
      "Epoch: 166 \tLoss: 0.541032\n",
      "Epoch: 167 \tLoss: 0.531893\n",
      "Epoch: 168 \tLoss: 0.537362\n",
      "Epoch: 169 \tLoss: 0.529898\n",
      "Epoch: 170 \tLoss: 0.533858\n",
      "Epoch: 171 \tLoss: 0.530924\n",
      "Epoch: 172 \tLoss: 0.530202\n",
      "Epoch: 173 \tLoss: 0.525653\n",
      "Epoch: 174 \tLoss: 0.523750\n",
      "Epoch: 175 \tLoss: 0.528919\n",
      "Epoch: 176 \tLoss: 0.520867\n",
      "Epoch: 177 \tLoss: 0.518971\n",
      "Epoch: 178 \tLoss: 0.516761\n",
      "Epoch: 179 \tLoss: 0.515855\n",
      "Epoch: 180 \tLoss: 0.517868\n",
      "Epoch: 181 \tLoss: 0.513289\n",
      "Epoch: 182 \tLoss: 0.513038\n",
      "Epoch: 183 \tLoss: 0.508736\n",
      "Epoch: 184 \tLoss: 0.510321\n",
      "Epoch: 185 \tLoss: 0.510012\n",
      "Epoch: 186 \tLoss: 0.508439\n",
      "Epoch: 187 \tLoss: 0.509434\n",
      "Epoch: 188 \tLoss: 0.506748\n",
      "Epoch: 189 \tLoss: 0.504513\n",
      "Epoch: 190 \tLoss: 0.499871\n",
      "Epoch: 191 \tLoss: 0.504909\n",
      "Epoch: 192 \tLoss: 0.496546\n",
      "Epoch: 193 \tLoss: 0.501428\n",
      "Epoch: 194 \tLoss: 0.495394\n",
      "Epoch: 195 \tLoss: 0.495877\n",
      "Epoch: 196 \tLoss: 0.493053\n",
      "Epoch: 197 \tLoss: 0.495347\n",
      "Epoch: 198 \tLoss: 0.490850\n",
      "Epoch: 199 \tLoss: 0.494434\n",
      "Epoch: 200 \tLoss: 0.492894\n",
      "Epoch: 201 \tLoss: 0.486202\n",
      "Epoch: 202 \tLoss: 0.490519\n",
      "Epoch: 203 \tLoss: 0.483756\n",
      "Epoch: 204 \tLoss: 0.488239\n",
      "Epoch: 205 \tLoss: 0.482825\n",
      "Epoch: 206 \tLoss: 0.481321\n",
      "Epoch: 207 \tLoss: 0.479377\n",
      "Epoch: 208 \tLoss: 0.478433\n",
      "Epoch: 209 \tLoss: 0.477881\n",
      "Epoch: 210 \tLoss: 0.474432\n",
      "Epoch: 211 \tLoss: 0.479518\n",
      "Epoch: 212 \tLoss: 0.471253\n",
      "Epoch: 213 \tLoss: 0.471653\n",
      "Epoch: 214 \tLoss: 0.478482\n",
      "Epoch: 215 \tLoss: 0.474070\n",
      "Epoch: 216 \tLoss: 0.472543\n",
      "Epoch: 217 \tLoss: 0.468627\n",
      "Epoch: 218 \tLoss: 0.464839\n",
      "Epoch: 219 \tLoss: 0.461905\n",
      "Epoch: 220 \tLoss: 0.467517\n",
      "Epoch: 221 \tLoss: 0.467072\n",
      "Epoch: 222 \tLoss: 0.460546\n",
      "Epoch: 223 \tLoss: 0.461439\n",
      "Epoch: 224 \tLoss: 0.458587\n",
      "Epoch: 225 \tLoss: 0.454081\n",
      "Epoch: 226 \tLoss: 0.451576\n",
      "Epoch: 227 \tLoss: 0.453866\n",
      "Epoch: 228 \tLoss: 0.451823\n",
      "Epoch: 229 \tLoss: 0.447651\n",
      "Epoch: 230 \tLoss: 0.446033\n",
      "Epoch: 231 \tLoss: 0.448697\n",
      "Epoch: 232 \tLoss: 0.442053\n",
      "Epoch: 233 \tLoss: 0.442735\n",
      "Epoch: 234 \tLoss: 0.439130\n",
      "Epoch: 235 \tLoss: 0.443109\n",
      "Epoch: 236 \tLoss: 0.442247\n",
      "Epoch: 237 \tLoss: 0.439563\n",
      "Epoch: 238 \tLoss: 0.438290\n",
      "Epoch: 239 \tLoss: 0.441682\n",
      "Epoch: 240 \tLoss: 0.435586\n",
      "Epoch: 241 \tLoss: 0.429744\n",
      "Epoch: 242 \tLoss: 0.431011\n",
      "Epoch: 243 \tLoss: 0.427135\n",
      "Epoch: 244 \tLoss: 0.430494\n",
      "Epoch: 245 \tLoss: 0.425160\n",
      "Epoch: 246 \tLoss: 0.422913\n",
      "Epoch: 247 \tLoss: 0.419173\n",
      "Epoch: 248 \tLoss: 0.421961\n",
      "Epoch: 249 \tLoss: 0.417499\n",
      "Epoch: 250 \tLoss: 0.419210\n",
      "Epoch: 251 \tLoss: 0.413908\n",
      "Epoch: 252 \tLoss: 0.419051\n",
      "Epoch: 253 \tLoss: 0.411923\n",
      "Epoch: 254 \tLoss: 0.408515\n",
      "Epoch: 255 \tLoss: 0.408849\n",
      "Epoch: 256 \tLoss: 0.411556\n",
      "Epoch: 257 \tLoss: 0.406404\n",
      "Epoch: 258 \tLoss: 0.405405\n",
      "Epoch: 259 \tLoss: 0.402123\n",
      "Epoch: 260 \tLoss: 0.403835\n",
      "Epoch: 261 \tLoss: 0.403004\n",
      "Epoch: 262 \tLoss: 0.400324\n",
      "Epoch: 263 \tLoss: 0.394987\n",
      "Epoch: 264 \tLoss: 0.396205\n",
      "Epoch: 265 \tLoss: 0.393933\n",
      "Epoch: 266 \tLoss: 0.391479\n",
      "Epoch: 267 \tLoss: 0.391588\n",
      "Epoch: 268 \tLoss: 0.383122\n",
      "Epoch: 269 \tLoss: 0.383673\n",
      "Epoch: 270 \tLoss: 0.388249\n",
      "Epoch: 271 \tLoss: 0.383294\n",
      "Epoch: 272 \tLoss: 0.382465\n",
      "Epoch: 273 \tLoss: 0.379342\n",
      "Epoch: 274 \tLoss: 0.374312\n",
      "Epoch: 275 \tLoss: 0.377579\n",
      "Epoch: 276 \tLoss: 0.373618\n",
      "Epoch: 277 \tLoss: 0.374389\n",
      "Epoch: 278 \tLoss: 0.369676\n",
      "Epoch: 279 \tLoss: 0.374250\n",
      "Epoch: 280 \tLoss: 0.366910\n",
      "Epoch: 281 \tLoss: 0.362578\n",
      "Epoch: 282 \tLoss: 0.368427\n",
      "Epoch: 283 \tLoss: 0.364797\n",
      "Epoch: 284 \tLoss: 0.364062\n",
      "Epoch: 285 \tLoss: 0.363315\n",
      "Epoch: 286 \tLoss: 0.356243\n",
      "Epoch: 287 \tLoss: 0.354183\n",
      "Epoch: 288 \tLoss: 0.355834\n",
      "Epoch: 289 \tLoss: 0.354955\n",
      "Epoch: 290 \tLoss: 0.358267\n",
      "Epoch: 291 \tLoss: 0.349540\n",
      "Epoch: 292 \tLoss: 0.349751\n",
      "Epoch: 293 \tLoss: 0.349081\n",
      "Epoch: 294 \tLoss: 0.347871\n",
      "Epoch: 295 \tLoss: 0.346520\n",
      "Epoch: 296 \tLoss: 0.341374\n",
      "Epoch: 297 \tLoss: 0.340036\n",
      "Epoch: 298 \tLoss: 0.341689\n",
      "Epoch: 299 \tLoss: 0.337845\n",
      "Epoch: 300 \tLoss: 0.339940\n"
     ]
    }
   ],
   "source": [
    "e = 0\n",
    "max_epochs = 300\n",
    "is_converged = False\n",
    "previous_loss = 0\n",
    "losses = []\n",
    "\n",
    "# For each epoch\n",
    "while e < max_epochs and is_converged is not True:\n",
    "    \n",
    "    current_epoch_loss = 0\n",
    "    \n",
    "    # TODO: Get the batch for this epoch.\n",
    "    X_batch, y_batch = data_loader.get_batch()\n",
    "    \n",
    "    # For each batch\n",
    "    for X, y in zip(X_batch, y_batch):\n",
    "        X = torch.Tensor(X)\n",
    "        y = torch.Tensor(y).to(torch.long)\n",
    "        \n",
    "        # TODO: Empty the gradients of the network.\n",
    "        optimizer.zero_grad()\n",
    "        \n",
    "        # TODO: Forward propagation\n",
    "        scores, probabilities = network.forward(X)\n",
    "        \n",
    "        # TODO: Compute the loss\n",
    "        loss = criterion(scores, y)\n",
    "        \n",
    "        # TODO: Backward propagation\n",
    "        loss.backward()\n",
    "        \n",
    "        # TODO: Update parameters\n",
    "        optimizer.step()\n",
    "        \n",
    "        current_epoch_loss += loss.item()\n",
    "    \n",
    "    average_loss = current_epoch_loss / len(X_batch)\n",
    "    losses.append(average_loss)\n",
    "    \n",
    "    # Display the average loss per epoch\n",
    "    print('Epoch:', e + 1, '\\tLoss: {:.6f}'.format(average_loss))\n",
    "    \n",
    "    if abs(previous_loss - loss) < 0.00000005:\n",
    "        is_converged = True\n",
    "    else:\n",
    "        previous_loss = loss\n",
    "        e += 1"
   ]
  },
  {
   "cell_type": "markdown",
   "metadata": {},
   "source": [
    "## Try our trained network on the test data\n",
    "\n",
    "Set the network in test `eval` mode first, to avoid updating the weights."
   ]
  },
  {
   "cell_type": "code",
   "execution_count": 147,
   "metadata": {},
   "outputs": [
    {
     "data": {
      "text/plain": [
       "NeuralNetwork(\n",
       "  (layers): Sequential(\n",
       "    (0): Linear(in_features=4, out_features=5, bias=True)\n",
       "    (1): Sigmoid()\n",
       "    (2): Linear(in_features=5, out_features=10, bias=True)\n",
       "    (3): Sigmoid()\n",
       "    (4): Linear(in_features=10, out_features=3, bias=True)\n",
       "    (5): Softmax(dim=1)\n",
       "  )\n",
       ")"
      ]
     },
     "execution_count": 147,
     "metadata": {},
     "output_type": "execute_result"
    }
   ],
   "source": [
    "network.eval()"
   ]
  },
  {
   "cell_type": "markdown",
   "metadata": {},
   "source": [
    "Perform forward propagation on the test data. Assign the return values to variables `scores` and `probabilities`."
   ]
  },
  {
   "cell_type": "code",
   "execution_count": 148,
   "metadata": {},
   "outputs": [],
   "source": [
    "# Write your code here\n",
    "scores, probabilities = network.forward(X_test)"
   ]
  },
  {
   "cell_type": "markdown",
   "metadata": {},
   "source": [
    "Now, let's get the prediction results on the test data to see if our model can handle unseen instances. Store the predicted labels in the variable `predictions`."
   ]
  },
  {
   "cell_type": "code",
   "execution_count": 149,
   "metadata": {},
   "outputs": [],
   "source": [
    "# Write your code here\n",
    "predictions = network.predict(probabilities)"
   ]
  },
  {
   "cell_type": "code",
   "execution_count": 150,
   "metadata": {},
   "outputs": [
    {
     "name": "stdout",
     "output_type": "stream",
     "text": [
      "tensor([0, 0, 0, 0, 0, 0, 0, 0, 0, 0, 1, 1, 1, 1, 1, 2, 1, 1, 1, 1, 2, 2, 2, 2,\n",
      "        2, 2, 2, 2, 2, 2])\n"
     ]
    }
   ],
   "source": [
    "print(predictions)"
   ]
  },
  {
   "cell_type": "markdown",
   "metadata": {},
   "source": [
    "Compare the ground truth labels with the predicted labels. Store the total number of correct predictions in the variable `num_correct`."
   ]
  },
  {
   "cell_type": "code",
   "execution_count": 151,
   "metadata": {},
   "outputs": [],
   "source": [
    "# Write your code here\n",
    "num_correct = sum(y_test == predictions)"
   ]
  },
  {
   "cell_type": "code",
   "execution_count": 152,
   "metadata": {},
   "outputs": [
    {
     "name": "stdout",
     "output_type": "stream",
     "text": [
      "tensor(29)\n"
     ]
    }
   ],
   "source": [
    "print(num_correct)"
   ]
  },
  {
   "cell_type": "markdown",
   "metadata": {},
   "source": [
    "Compute for the accuracy. Store the accuracy in the variable `accuracy`."
   ]
  },
  {
   "cell_type": "code",
   "execution_count": 153,
   "metadata": {},
   "outputs": [],
   "source": [
    "# Write your code here\n",
    "accuracy = num_correct / len(y_test)"
   ]
  },
  {
   "cell_type": "code",
   "execution_count": 154,
   "metadata": {},
   "outputs": [
    {
     "name": "stdout",
     "output_type": "stream",
     "text": [
      "0.9667\n"
     ]
    }
   ],
   "source": [
    "print('{:.4f}'.format(accuracy))"
   ]
  },
  {
   "cell_type": "markdown",
   "metadata": {},
   "source": [
    "<span style=\"color:red;\">**Question 5-17:** What is the accuracy of the network when evaluated on the test set? Express your answer in a floating point number from 0 to 1. Limit to 4 decimal places.</span>"
   ]
  },
  {
   "cell_type": "markdown",
   "metadata": {},
   "source": [
    "> 0.9667"
   ]
  },
  {
   "cell_type": "markdown",
   "metadata": {},
   "source": [
    "### <center>fin</center>"
   ]
  },
  {
   "cell_type": "markdown",
   "metadata": {},
   "source": [
    "\n",
    "<!-- DO NOT MODIFY OR DELETE THIS -->\n",
    "<sup>made/compiled by daniel stanley tan & courtney anne ngo 🐰 & thomas james tiam-lee</sup> <br>\n",
    "<sup>for comments, corrections, suggestions, please email:</sup><sup> danieltan07@gmail.com & courtneyngo@gmail.com & thomasjamestiamlee@gmail.com</sup><br>\n",
    "<sup>please cc your instructor, too</sup>\n",
    "<!-- DO NOT MODIFY OR DELETE THIS -->"
   ]
  }
 ],
 "metadata": {
  "kernelspec": {
   "display_name": "nn-gpu",
   "language": "python",
   "name": "python3"
  },
  "language_info": {
   "codemirror_mode": {
    "name": "ipython",
    "version": 3
   },
   "file_extension": ".py",
   "mimetype": "text/x-python",
   "name": "python",
   "nbconvert_exporter": "python",
   "pygments_lexer": "ipython3",
   "version": "3.9.18"
  }
 },
 "nbformat": 4,
 "nbformat_minor": 4
}
