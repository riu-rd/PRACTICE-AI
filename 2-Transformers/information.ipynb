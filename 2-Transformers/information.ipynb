{
 "cells": [
  {
   "cell_type": "markdown",
   "metadata": {},
   "source": [
    "# Checking Information about Conda Environment `machinelearning` (Python 3.9.18)"
   ]
  },
  {
   "cell_type": "markdown",
   "metadata": {},
   "source": [
    "### Environment\n",
    "```\n",
    "conda create --name ml python=3.9\n",
    "conda activate ml\n",
    "conda install -c conda-forge nb_conda\n",
    "```"
   ]
  },
  {
   "cell_type": "markdown",
   "metadata": {},
   "source": [
    "### AI Libraries\n",
    "```\n",
    "conda install -c anaconda scikit-learn\n",
    "conda install pytorch torchvision torchaudio pytorch-cuda=11.8 -c pytorch -c nvidia\n",
    "conda install -c anaconda tensorflow\n",
    "```"
   ]
  },
  {
   "cell_type": "markdown",
   "metadata": {},
   "source": [
    "### Data Science Libraries\n",
    "```\n",
    "pip install numpy pandas matplotlib seaborn\n",
    "```"
   ]
  },
  {
   "cell_type": "markdown",
   "metadata": {},
   "source": [
    "## Verification"
   ]
  },
  {
   "cell_type": "code",
   "execution_count": 15,
   "metadata": {},
   "outputs": [],
   "source": [
    "import sys\n",
    "import numpy as np\n",
    "import pandas as pd\n",
    "import scipy\n",
    "import matplotlib\n",
    "import seaborn as sns"
   ]
  },
  {
   "cell_type": "code",
   "execution_count": 16,
   "metadata": {},
   "outputs": [],
   "source": [
    "import sklearn as sk\n",
    "import tensorflow as tf\n",
    "import torch"
   ]
  },
  {
   "cell_type": "markdown",
   "metadata": {},
   "source": [
    "### Verifying data libraries"
   ]
  },
  {
   "cell_type": "code",
   "execution_count": 17,
   "metadata": {},
   "outputs": [
    {
     "name": "stdout",
     "output_type": "stream",
     "text": [
      "-- GENERAL --\n",
      "Python Version: 3.9.18 (main, Sep 11 2023, 13:30:38) [MSC v.1916 64 bit (AMD64)]\n",
      "\n",
      "Numpy Version: 1.24.3\n",
      "Pandas Version: 2.2.2\n",
      "Scipy Version: 1.10.1\n",
      "Matplotlib Version: 3.9.1\n",
      "Seaborn Version: 0.13.2\n"
     ]
    }
   ],
   "source": [
    "print(\"-- GENERAL --\")\n",
    "print(f\"Python Version: {sys.version}\")\n",
    "print()\n",
    "print(f\"Numpy Version: {np.__version__}\")\n",
    "print(f\"Pandas Version: {pd.__version__}\")\n",
    "print(f\"Scipy Version: {scipy.__version__}\")\n",
    "print(f\"Matplotlib Version: {matplotlib.__version__}\")\n",
    "print(f\"Seaborn Version: {sns.__version__}\")"
   ]
  },
  {
   "cell_type": "markdown",
   "metadata": {},
   "source": [
    "### Verifying scikit-learn"
   ]
  },
  {
   "cell_type": "code",
   "execution_count": 18,
   "metadata": {},
   "outputs": [
    {
     "name": "stdout",
     "output_type": "stream",
     "text": [
      "-- scikit-learn --\n",
      "Scikit-Learn Version: 1.3.0\n"
     ]
    }
   ],
   "source": [
    "print(\"-- scikit-learn --\")\n",
    "print(f\"Scikit-Learn Version: {sk.__version__}\")"
   ]
  },
  {
   "cell_type": "markdown",
   "metadata": {},
   "source": [
    "### Verifying TensorFlow and Keras"
   ]
  },
  {
   "cell_type": "code",
   "execution_count": 19,
   "metadata": {},
   "outputs": [
    {
     "name": "stdout",
     "output_type": "stream",
     "text": [
      "-- TensorFlow and Keras --\n",
      "TensorFlow Version: 2.10.0\n",
      "Keras Version: 2.10.0\n",
      "\n",
      "TensorFlow GPU is NOT AVAILABLE\n",
      "\n",
      "TensorFlow Build Information:\n",
      "OrderedDict([('is_cuda_build', False), ('is_rocm_build', False), ('is_tensorrt_build', False), ('msvcp_dll_names', 'msvcp140.dll,msvcp140_1.dll')])\n",
      "\n",
      "Keras Backend Configuration:\n",
      "Backend: tensorflow\n",
      "Epsilon: 1e-07\n",
      "Image Data Format: channels_last\n",
      "Floatx: float32\n"
     ]
    }
   ],
   "source": [
    "print(\"-- TensorFlow and Keras --\")\n",
    "print(f\"TensorFlow Version: {tf.__version__}\")\n",
    "print(f\"Keras Version: {tf.keras.__version__}\")\n",
    "print()\n",
    "\n",
    "gpu_tf = len(tf.config.list_physical_devices('GPU')) > 0\n",
    "print(f\"TensorFlow GPU is {'available' if gpu_tf else 'NOT AVAILABLE'}\")\n",
    "\n",
    "print()\n",
    "print(\"TensorFlow Build Information:\")\n",
    "print(tf.sysconfig.get_build_info())\n",
    "\n",
    "print()\n",
    "print(\"Keras Backend Configuration:\")\n",
    "print(f\"Backend: {tf.keras.backend.backend()}\")\n",
    "print(f\"Epsilon: {tf.keras.backend.epsilon()}\")\n",
    "print(f\"Image Data Format: {tf.keras.backend.image_data_format()}\")\n",
    "print(f\"Floatx: {tf.keras.backend.floatx()}\")"
   ]
  },
  {
   "cell_type": "code",
   "execution_count": 20,
   "metadata": {},
   "outputs": [
    {
     "name": "stdout",
     "output_type": "stream",
     "text": [
      "[name: \"/device:CPU:0\"\n",
      "device_type: \"CPU\"\n",
      "memory_limit: 268435456\n",
      "locality {\n",
      "}\n",
      "incarnation: 4116404542251844863\n",
      "xla_global_id: -1\n",
      "]\n"
     ]
    }
   ],
   "source": [
    "from tensorflow.python.client import device_lib \n",
    "print(device_lib.list_local_devices())"
   ]
  },
  {
   "cell_type": "markdown",
   "metadata": {},
   "source": [
    "### Verifying PyTorch"
   ]
  },
  {
   "cell_type": "code",
   "execution_count": 22,
   "metadata": {},
   "outputs": [
    {
     "name": "stdout",
     "output_type": "stream",
     "text": [
      "-- PyTorch --\n",
      "PyTorch Version: 2.3.1\n",
      "\n",
      "PyTorch GPU is available\n",
      "PyTorch GPU Device Count: 1\n",
      "    Device 0: NVIDIA GeForce RTX 3060 Laptop GPU\n",
      "    Device 0 Memory Allocated: 0 bytes\n",
      "    Device 0 Memory Cached: 0 bytes\n"
     ]
    }
   ],
   "source": [
    "print(\"-- PyTorch --\")\n",
    "print(f\"PyTorch Version: {torch.__version__}\")\n",
    "print()\n",
    "\n",
    "gpu_torch = torch.cuda.is_available()\n",
    "print(f\"PyTorch GPU is {'available' if gpu_torch else 'NOT AVAILABLE'}\")\n",
    "\n",
    "if gpu_torch:\n",
    "    print(f\"PyTorch GPU Device Count: {torch.cuda.device_count()}\")\n",
    "    for i in range(torch.cuda.device_count()):\n",
    "        print(f\"    Device {i}: {torch.cuda.get_device_name(i)}\")\n",
    "        print(f\"    Device {i} Memory Allocated: {torch.cuda.memory_allocated(i)} bytes\")\n",
    "        print(f\"    Device {i} Memory Cached: {torch.cuda.memory_reserved(i)} bytes\")"
   ]
  }
 ],
 "metadata": {
  "kernelspec": {
   "display_name": "ai",
   "language": "python",
   "name": "python3"
  },
  "language_info": {
   "codemirror_mode": {
    "name": "ipython",
    "version": 3
   },
   "file_extension": ".py",
   "mimetype": "text/x-python",
   "name": "python",
   "nbconvert_exporter": "python",
   "pygments_lexer": "ipython3",
   "version": "3.9.18"
  }
 },
 "nbformat": 4,
 "nbformat_minor": 2
}
