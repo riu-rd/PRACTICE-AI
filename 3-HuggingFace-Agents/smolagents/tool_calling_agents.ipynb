{
  "cells": [
    {
      "cell_type": "markdown",
      "metadata": {
        "id": "Pi9CF0391ARI"
      },
      "source": [
        "# Writing actions as code snippets or JSON blobs\n",
        "\n",
        "This notebook is part of the [Hugging Face Agents Course](https://www.hf.co/learn/agents-course), a free Course from beginner to expert, where you learn to build Agents.\n",
        "\n",
        "![Agents course share](https://huggingface.co/datasets/agents-course/course-images/resolve/main/en/communication/share.png)"
      ]
    },
    {
      "cell_type": "markdown",
      "metadata": {
        "id": "9gsYky7F1GzT"
      },
      "source": [
        "## Let's install the dependencies and login to our HF account to access the Inference API\n",
        "\n",
        "If you haven't installed `smolagents` yet, you can do so by running the following command:"
      ]
    },
    {
      "cell_type": "markdown",
      "metadata": {
        "id": "cH-4W1GhYL4T"
      },
      "source": [
        "Let's also login to the Hugging Face Hub to have access to the Inference API."
      ]
    },
    {
      "cell_type": "code",
      "execution_count": 1,
      "metadata": {},
      "outputs": [
        {
          "data": {
            "text/plain": [
              "True"
            ]
          },
          "execution_count": 1,
          "metadata": {},
          "output_type": "execute_result"
        }
      ],
      "source": [
        "import os\n",
        "from dotenv import load_dotenv\n",
        "\n",
        "env_path = os.path.join(os.getcwd(), '..', '..', '.env')\n",
        "load_dotenv(dotenv_path=env_path)\n",
        "\n",
        "# os.getenv('GEMINI_API_KEY')"
      ]
    },
    {
      "cell_type": "code",
      "execution_count": 2,
      "metadata": {
        "id": "TFTc-ry70y1f"
      },
      "outputs": [
        {
          "data": {
            "application/vnd.jupyter.widget-view+json": {
              "model_id": "bde5a1d5f64947c68ff9bb3a4f8bcb4e",
              "version_major": 2,
              "version_minor": 0
            },
            "text/plain": [
              "VBox(children=(HTML(value='<center> <img\\nsrc=https://huggingface.co/front/assets/huggingface_logo-noborder.sv…"
            ]
          },
          "metadata": {},
          "output_type": "display_data"
        }
      ],
      "source": [
        "from huggingface_hub import notebook_login\n",
        "\n",
        "notebook_login()"
      ]
    },
    {
      "cell_type": "markdown",
      "metadata": {
        "id": "ekKxaZrd1HlB"
      },
      "source": [
        "## Selecting a Playlist for the Party Using `smolagents` and a `ToolCallingAgent`\n",
        "\n",
        "Let's revisit the previous example where Alfred started party preparations, but this time we'll use a `ToolCallingAgent` to highlight the difference. We'll build an agent that can search the web using DuckDuckGo, just like in our Code Agent example. The only difference is the agent type - the framework handles everything else:"
      ]
    },
    {
      "cell_type": "code",
      "execution_count": 3,
      "metadata": {},
      "outputs": [],
      "source": [
        "from smolagents import LiteLLMModel\n",
        "\n",
        "# Replace all calls to HfApiModel\n",
        "llm_model = LiteLLMModel(\n",
        "    model_id=\"gemini/gemini-2.0-flash\", # you can see other model names here: https://cloud.google.com/vertex-ai/generative-ai/docs/learn/models. It is important to prefix the name with \"gemini/\"\n",
        "    api_key=os.getenv(\"GEMINI_API_KEY\"),\n",
        "    max_tokens=8192\n",
        ")"
      ]
    },
    {
      "cell_type": "code",
      "execution_count": 4,
      "metadata": {
        "colab": {
          "base_uri": "https://localhost:8080/",
          "height": 1000
        },
        "id": "6IInDOUN01sP",
        "outputId": "e49f2360-d377-4ed8-b7ae-8da4a3e3757b"
      },
      "outputs": [
        {
          "data": {
            "text/html": [
              "<pre style=\"white-space:pre;overflow-x:auto;line-height:normal;font-family:Menlo,'DejaVu Sans Mono',consolas,'Courier New',monospace\"><span style=\"color: #d4b702; text-decoration-color: #d4b702\">╭──────────────────────────────────────────────────── </span><span style=\"color: #d4b702; text-decoration-color: #d4b702; font-weight: bold\">New run</span><span style=\"color: #d4b702; text-decoration-color: #d4b702\"> ────────────────────────────────────────────────────╮</span>\n",
              "<span style=\"color: #d4b702; text-decoration-color: #d4b702\">│</span>                                                                                                                 <span style=\"color: #d4b702; text-decoration-color: #d4b702\">│</span>\n",
              "<span style=\"color: #d4b702; text-decoration-color: #d4b702\">│</span> <span style=\"font-weight: bold\">Search for the best music recommendations for a party at the Wayne's mansion.</span>                                   <span style=\"color: #d4b702; text-decoration-color: #d4b702\">│</span>\n",
              "<span style=\"color: #d4b702; text-decoration-color: #d4b702\">│</span>                                                                                                                 <span style=\"color: #d4b702; text-decoration-color: #d4b702\">│</span>\n",
              "<span style=\"color: #d4b702; text-decoration-color: #d4b702\">╰─ LiteLLMModel - gemini/gemini-2.0-flash ────────────────────────────────────────────────────────────────────────╯</span>\n",
              "</pre>\n"
            ],
            "text/plain": [
              "\u001b[38;2;212;183;2m╭─\u001b[0m\u001b[38;2;212;183;2m───────────────────────────────────────────────────\u001b[0m\u001b[38;2;212;183;2m \u001b[0m\u001b[1;38;2;212;183;2mNew run\u001b[0m\u001b[38;2;212;183;2m \u001b[0m\u001b[38;2;212;183;2m───────────────────────────────────────────────────\u001b[0m\u001b[38;2;212;183;2m─╮\u001b[0m\n",
              "\u001b[38;2;212;183;2m│\u001b[0m                                                                                                                 \u001b[38;2;212;183;2m│\u001b[0m\n",
              "\u001b[38;2;212;183;2m│\u001b[0m \u001b[1mSearch for the best music recommendations for a party at the Wayne's mansion.\u001b[0m                                   \u001b[38;2;212;183;2m│\u001b[0m\n",
              "\u001b[38;2;212;183;2m│\u001b[0m                                                                                                                 \u001b[38;2;212;183;2m│\u001b[0m\n",
              "\u001b[38;2;212;183;2m╰─\u001b[0m\u001b[38;2;212;183;2m LiteLLMModel - gemini/gemini-2.0-flash \u001b[0m\u001b[38;2;212;183;2m───────────────────────────────────────────────────────────────────────\u001b[0m\u001b[38;2;212;183;2m─╯\u001b[0m\n"
            ]
          },
          "metadata": {},
          "output_type": "display_data"
        },
        {
          "data": {
            "text/html": [
              "<pre style=\"white-space:pre;overflow-x:auto;line-height:normal;font-family:Menlo,'DejaVu Sans Mono',consolas,'Courier New',monospace\"><span style=\"color: #d4b702; text-decoration-color: #d4b702\">━━━━━━━━━━━━━━━━━━━━━━━━━━━━━━━━━━━━━━━━━━━━━━━━━━━━━ </span><span style=\"font-weight: bold\">Step </span><span style=\"color: #008080; text-decoration-color: #008080; font-weight: bold\">1</span><span style=\"color: #d4b702; text-decoration-color: #d4b702\"> ━━━━━━━━━━━━━━━━━━━━━━━━━━━━━━━━━━━━━━━━━━━━━━━━━━━━━━</span>\n",
              "</pre>\n"
            ],
            "text/plain": [
              "\u001b[38;2;212;183;2m━━━━━━━━━━━━━━━━━━━━━━━━━━━━━━━━━━━━━━━━━━━━━━━━━━━━━ \u001b[0m\u001b[1mStep \u001b[0m\u001b[1;36m1\u001b[0m\u001b[38;2;212;183;2m ━━━━━━━━━━━━━━━━━━━━━━━━━━━━━━━━━━━━━━━━━━━━━━━━━━━━━━\u001b[0m\n"
            ]
          },
          "metadata": {},
          "output_type": "display_data"
        },
        {
          "data": {
            "text/html": [
              "<pre style=\"white-space:pre;overflow-x:auto;line-height:normal;font-family:Menlo,'DejaVu Sans Mono',consolas,'Courier New',monospace\">╭─────────────────────────────────────────────────────────────────────────────────────────────────────────────────╮\n",
              "│ Calling tool: 'web_search' with arguments: {'query': \"best party music recommendations Wayne's mansion\"}        │\n",
              "╰─────────────────────────────────────────────────────────────────────────────────────────────────────────────────╯\n",
              "</pre>\n"
            ],
            "text/plain": [
              "╭─────────────────────────────────────────────────────────────────────────────────────────────────────────────────╮\n",
              "│ Calling tool: 'web_search' with arguments: {'query': \"best party music recommendations Wayne's mansion\"}        │\n",
              "╰─────────────────────────────────────────────────────────────────────────────────────────────────────────────────╯\n"
            ]
          },
          "metadata": {},
          "output_type": "display_data"
        },
        {
          "data": {
            "text/html": [
              "<pre style=\"white-space:pre;overflow-x:auto;line-height:normal;font-family:Menlo,'DejaVu Sans Mono',consolas,'Courier New',monospace\">Observations: ## Search Results\n",
              "\n",
              "|Best Songs To Party: DJ's Ultimate Party Songs Playlist - \n",
              "Top40Weekly.com<span style=\"font-weight: bold\">](</span><span style=\"color: #0000ff; text-decoration-color: #0000ff; text-decoration: underline\">https://top40weekly.com/best-songs-to-party/)</span>\n",
              "Don't forget the music! We've compiled the best songs to party that are sure to get everyone in the mood to dance \n",
              "and have a good time. Skip to content. Search for: <span style=\"color: #008080; text-decoration-color: #008080; font-weight: bold\">1950</span>. Top Songs from <span style=\"color: #008080; text-decoration-color: #008080; font-weight: bold\">1955</span>; Top Songs of <span style=\"color: #008080; text-decoration-color: #008080; font-weight: bold\">1956</span>; Top Songs of <span style=\"color: #008080; text-decoration-color: #008080; font-weight: bold\">1957</span>;\n",
              "Top Songs of <span style=\"color: #008080; text-decoration-color: #008080; font-weight: bold\">1958</span>; Top Songs of <span style=\"color: #008080; text-decoration-color: #008080; font-weight: bold\">1959</span>; 1950s Playlists; <span style=\"color: #008080; text-decoration-color: #008080; font-weight: bold\">1960</span>. Top Songs from <span style=\"color: #008080; text-decoration-color: #008080; font-weight: bold\">1960</span>;\n",
              "\n",
              "|<span style=\"color: #008080; text-decoration-color: #008080; font-weight: bold\">50</span>+ Best Songs For Your Next Party in <span style=\"color: #008080; text-decoration-color: #008080; font-weight: bold\">2025</span> - Aleka's \n",
              "Get-Together<span style=\"font-weight: bold\">](</span><span style=\"color: #0000ff; text-decoration-color: #0000ff; text-decoration: underline\">https://alekasgettogether.com/top-songs-for-any-party/)</span>\n",
              "Whether you're planning a How To Host The Best Party At Home or just want to liven up your playlist, we've got you \n",
              "covered with <span style=\"color: #008080; text-decoration-color: #008080; font-weight: bold\">100</span> crowd-pleasing tunes. From timeless classics to modern hits, these songs are guaranteed to keep \n",
              "the energy high and the good times rolling all night long. <span style=\"color: #008080; text-decoration-color: #008080; font-weight: bold\">50</span> Popular Party Songs. Uptown Funk - Mark Ronson ft <span style=\"color: #808000; text-decoration-color: #808000\">...</span>\n",
              "\n",
              "|The <span style=\"color: #008080; text-decoration-color: #008080; font-weight: bold\">75</span> Best Party Songs That Will Get Everyone Dancing - \n",
              "Gear4music<span style=\"font-weight: bold\">](</span><span style=\"color: #0000ff; text-decoration-color: #0000ff; text-decoration: underline\">https://www.gear4music.com/blog/best-party-songs/)</span>\n",
              "The best party songs <span style=\"color: #008080; text-decoration-color: #008080; font-weight: bold\">1</span>. <span style=\"color: #008000; text-decoration-color: #008000\">\"September\"</span> - Earth, Wind &amp; Fire <span style=\"font-weight: bold\">(</span><span style=\"color: #008080; text-decoration-color: #008080; font-weight: bold\">1978</span><span style=\"font-weight: bold\">)</span> Quite possibly the best party song. An infectious \n",
              "mix of funk and soul, <span style=\"color: #008000; text-decoration-color: #008000\">\"September\"</span> is celebrated for its upbeat melody and <span style=\"color: #008000; text-decoration-color: #008000\">\"ba-dee-ya\"</span> chorus, making it a timeless \n",
              "dance favorite.\n",
              "\n",
              "|<span style=\"color: #008080; text-decoration-color: #008080; font-weight: bold\">40</span> Best Party Songs | Songs To Dance To, Ranked By Our Editors - Time \n",
              "Out<span style=\"font-weight: bold\">](</span><span style=\"color: #0000ff; text-decoration-color: #0000ff; text-decoration: underline\">https://www.timeout.com/music/best-party-songs)</span>\n",
              "The <span style=\"color: #008080; text-decoration-color: #008080; font-weight: bold\">40</span> best party songs ever made. It's party time guys - don your dancing shoes and have your speaker at the \n",
              "ready. Thursday <span style=\"color: #008080; text-decoration-color: #008080; font-weight: bold\">13</span> February <span style=\"color: #008080; text-decoration-color: #008080; font-weight: bold\">2025</span>. Share. Copy Link. Facebook Twitter Pinterest <span style=\"color: #808000; text-decoration-color: #808000\">...</span>\n",
              "\n",
              "|<span style=\"color: #008080; text-decoration-color: #008080; font-weight: bold\">45</span> Songs That Get Your Event Guests on the Dance Floor Every \n",
              "Time<span style=\"font-weight: bold\">](</span><span style=\"color: #0000ff; text-decoration-color: #0000ff; text-decoration: underline\">https://hub.theeventplannerexpo.com/entertainment/35-songs-that-get-your-event-guests-on-the-dance-floor-ever</span>\n",
              "<span style=\"color: #0000ff; text-decoration-color: #0000ff; text-decoration: underline\">y-time)</span>\n",
              "You'll know your client's event best, including music genre preferences and styles. But these songs are wildly \n",
              "popular among many generations and are always great to have on standby should your dance guests need a boost. Party\n",
              "Songs <span style=\"color: #008000; text-decoration-color: #008000\">\"Flowers\"</span> by Miley Cyrus <span style=\"font-weight: bold\">(</span><span style=\"color: #008080; text-decoration-color: #008080; font-weight: bold\">2023</span><span style=\"font-weight: bold\">)</span> <span style=\"color: #008000; text-decoration-color: #008000\">\"TQG\"</span> by KAROL G &amp; Shakira <span style=\"font-weight: bold\">(</span><span style=\"color: #008080; text-decoration-color: #008080; font-weight: bold\">2023</span><span style=\"font-weight: bold\">)</span> <span style=\"color: #008000; text-decoration-color: #008000\">\"TRUSTFALL\"</span> by P!nk <span style=\"font-weight: bold\">(</span><span style=\"color: #008080; text-decoration-color: #008080; font-weight: bold\">2023</span><span style=\"font-weight: bold\">)</span>\n",
              "\n",
              "|The Top <span style=\"color: #008080; text-decoration-color: #008080; font-weight: bold\">100</span> Best Party Songs of All Time - \n",
              "LiveAbout<span style=\"font-weight: bold\">](</span><span style=\"color: #0000ff; text-decoration-color: #0000ff; text-decoration: underline\">https://www.liveabout.com/top-best-party-songs-of-all-time-3248355)</span>\n",
              "<span style=\"color: #008000; text-decoration-color: #008000\">\"Macarena\"</span> then spent <span style=\"color: #008080; text-decoration-color: #008080; font-weight: bold\">14</span> weeks at No. <span style=\"color: #008080; text-decoration-color: #008080; font-weight: bold\">1</span> on the U.S. pop singles chart. For more than a year this was one of the \n",
              "most popular special event songs in the United States. It still works well as a charming party song encouraging \n",
              "everyone to join in on the simple dance.\n",
              "\n",
              "|Dance-party playlist: <span style=\"color: #008080; text-decoration-color: #008080; font-weight: bold\">100</span> greatest songs for an epic party - Time \n",
              "Out<span style=\"font-weight: bold\">](</span><span style=\"color: #0000ff; text-decoration-color: #0000ff; text-decoration: underline\">https://www.timeout.com/music/dance-party-playlist-100-greatest-songs-for-an-epic-party)</span>\n",
              "Dance-party playlist: <span style=\"color: #008080; text-decoration-color: #008080; font-weight: bold\">100</span> greatest songs for an epic party House party, BBQ, wedding party or just a bedroom disco,\n",
              "we have the party playlist you need to get the place moving. Tuesday <span style=\"color: #008080; text-decoration-color: #008080; font-weight: bold\">16</span> July <span style=\"color: #008080; text-decoration-color: #008080; font-weight: bold\">2013</span>\n",
              "\n",
              "|<span style=\"color: #008080; text-decoration-color: #008080; font-weight: bold\">35</span> Best Party Songs to Help You Get Down &amp; Boogie - MidderMusic<span style=\"font-weight: bold\">](</span><span style=\"color: #0000ff; text-decoration-color: #0000ff; text-decoration: underline\">https://middermusic.com/best-party-songs/)</span>\n",
              "Best Party Songs - Final Thoughts . It wasn't easy to pick the best party songs, but we tried to cover different \n",
              "styles and genres so there's something for everyone. Nevertheless, all of the songs we mentioned today are the \n",
              "world's top party songs. And they will certainly get you in the party mood! Similar Playlists: Best Sing-Along \n",
              "Songs\n",
              "\n",
              "|DJs, Bands, &amp; Musicians for your event | Cueup - Cueup Blog<span style=\"font-weight: bold\">](</span><span style=\"color: #0000ff; text-decoration-color: #0000ff; text-decoration: underline\">https://cueup.io/blog/best-party-songs)</span>\n",
              "In this post, you'll find something for every event. No matter if you're composing the playlist or working with a \n",
              "DJ for the party, these are some of the particular songs that make an unforgettable party. Because You Loved Me - \n",
              "Celine Dion. Little L - Jamiroquai. Don't Go Breaking My Heart - Elton John and Kiki Dee. Sugar Sugar - The Archies\n",
              "\n",
              "|<span style=\"color: #008080; text-decoration-color: #008080; font-weight: bold\">100</span> Best Party Songs: The Ultimate Party Playlist<span style=\"font-weight: bold\">](</span><span style=\"color: #0000ff; text-decoration-color: #0000ff; text-decoration: underline\">https://audiocaptain.com/best-party-songs/)</span>\n",
              "Best 2000s Party Songs. Stylistically speaking, music that dominated the charts in the 2000s was nondescript.. \n",
              "There was not much new regarding musical directions. Club and hip hop dominated the charts while indie acts and \n",
              "some rock groups still had influence.\n",
              "</pre>\n"
            ],
            "text/plain": [
              "Observations: ## Search Results\n",
              "\n",
              "|Best Songs To Party: DJ's Ultimate Party Songs Playlist - \n",
              "Top40Weekly.com\u001b[1m]\u001b[0m\u001b[1m(\u001b[0m\u001b[4;94mhttps://top40weekly.com/best-songs-to-party/\u001b[0m\u001b[4;94m)\u001b[0m\n",
              "Don't forget the music! We've compiled the best songs to party that are sure to get everyone in the mood to dance \n",
              "and have a good time. Skip to content. Search for: \u001b[1;36m1950\u001b[0m. Top Songs from \u001b[1;36m1955\u001b[0m; Top Songs of \u001b[1;36m1956\u001b[0m; Top Songs of \u001b[1;36m1957\u001b[0m;\n",
              "Top Songs of \u001b[1;36m1958\u001b[0m; Top Songs of \u001b[1;36m1959\u001b[0m; 1950s Playlists; \u001b[1;36m1960\u001b[0m. Top Songs from \u001b[1;36m1960\u001b[0m;\n",
              "\n",
              "|\u001b[1;36m50\u001b[0m+ Best Songs For Your Next Party in \u001b[1;36m2025\u001b[0m - Aleka's \n",
              "Get-Together\u001b[1m]\u001b[0m\u001b[1m(\u001b[0m\u001b[4;94mhttps://alekasgettogether.com/top-songs-for-any-party/\u001b[0m\u001b[4;94m)\u001b[0m\n",
              "Whether you're planning a How To Host The Best Party At Home or just want to liven up your playlist, we've got you \n",
              "covered with \u001b[1;36m100\u001b[0m crowd-pleasing tunes. From timeless classics to modern hits, these songs are guaranteed to keep \n",
              "the energy high and the good times rolling all night long. \u001b[1;36m50\u001b[0m Popular Party Songs. Uptown Funk - Mark Ronson ft \u001b[33m...\u001b[0m\n",
              "\n",
              "|The \u001b[1;36m75\u001b[0m Best Party Songs That Will Get Everyone Dancing - \n",
              "Gear4music\u001b[1m]\u001b[0m\u001b[1m(\u001b[0m\u001b[4;94mhttps://www.gear4music.com/blog/best-party-songs/\u001b[0m\u001b[4;94m)\u001b[0m\n",
              "The best party songs \u001b[1;36m1\u001b[0m. \u001b[32m\"September\"\u001b[0m - Earth, Wind & Fire \u001b[1m(\u001b[0m\u001b[1;36m1978\u001b[0m\u001b[1m)\u001b[0m Quite possibly the best party song. An infectious \n",
              "mix of funk and soul, \u001b[32m\"September\"\u001b[0m is celebrated for its upbeat melody and \u001b[32m\"ba-dee-ya\"\u001b[0m chorus, making it a timeless \n",
              "dance favorite.\n",
              "\n",
              "|\u001b[1;36m40\u001b[0m Best Party Songs | Songs To Dance To, Ranked By Our Editors - Time \n",
              "Out\u001b[1m]\u001b[0m\u001b[1m(\u001b[0m\u001b[4;94mhttps://www.timeout.com/music/best-party-songs\u001b[0m\u001b[4;94m)\u001b[0m\n",
              "The \u001b[1;36m40\u001b[0m best party songs ever made. It's party time guys - don your dancing shoes and have your speaker at the \n",
              "ready. Thursday \u001b[1;36m13\u001b[0m February \u001b[1;36m2025\u001b[0m. Share. Copy Link. Facebook Twitter Pinterest \u001b[33m...\u001b[0m\n",
              "\n",
              "|\u001b[1;36m45\u001b[0m Songs That Get Your Event Guests on the Dance Floor Every \n",
              "Time\u001b[1m]\u001b[0m\u001b[1m(\u001b[0m\u001b[4;94mhttps://hub.theeventplannerexpo.com/entertainment/35-songs-that-get-your-event-guests-on-the-dance-floor-ever\u001b[0m\n",
              "\u001b[4;94my-time\u001b[0m\u001b[4;94m)\u001b[0m\n",
              "You'll know your client's event best, including music genre preferences and styles. But these songs are wildly \n",
              "popular among many generations and are always great to have on standby should your dance guests need a boost. Party\n",
              "Songs \u001b[32m\"Flowers\"\u001b[0m by Miley Cyrus \u001b[1m(\u001b[0m\u001b[1;36m2023\u001b[0m\u001b[1m)\u001b[0m \u001b[32m\"TQG\"\u001b[0m by KAROL G & Shakira \u001b[1m(\u001b[0m\u001b[1;36m2023\u001b[0m\u001b[1m)\u001b[0m \u001b[32m\"TRUSTFALL\"\u001b[0m by P!nk \u001b[1m(\u001b[0m\u001b[1;36m2023\u001b[0m\u001b[1m)\u001b[0m\n",
              "\n",
              "|The Top \u001b[1;36m100\u001b[0m Best Party Songs of All Time - \n",
              "LiveAbout\u001b[1m]\u001b[0m\u001b[1m(\u001b[0m\u001b[4;94mhttps://www.liveabout.com/top-best-party-songs-of-all-time-3248355\u001b[0m\u001b[4;94m)\u001b[0m\n",
              "\u001b[32m\"Macarena\"\u001b[0m then spent \u001b[1;36m14\u001b[0m weeks at No. \u001b[1;36m1\u001b[0m on the U.S. pop singles chart. For more than a year this was one of the \n",
              "most popular special event songs in the United States. It still works well as a charming party song encouraging \n",
              "everyone to join in on the simple dance.\n",
              "\n",
              "|Dance-party playlist: \u001b[1;36m100\u001b[0m greatest songs for an epic party - Time \n",
              "Out\u001b[1m]\u001b[0m\u001b[1m(\u001b[0m\u001b[4;94mhttps://www.timeout.com/music/dance-party-playlist-100-greatest-songs-for-an-epic-party\u001b[0m\u001b[4;94m)\u001b[0m\n",
              "Dance-party playlist: \u001b[1;36m100\u001b[0m greatest songs for an epic party House party, BBQ, wedding party or just a bedroom disco,\n",
              "we have the party playlist you need to get the place moving. Tuesday \u001b[1;36m16\u001b[0m July \u001b[1;36m2013\u001b[0m\n",
              "\n",
              "|\u001b[1;36m35\u001b[0m Best Party Songs to Help You Get Down & Boogie - MidderMusic\u001b[1m]\u001b[0m\u001b[1m(\u001b[0m\u001b[4;94mhttps://middermusic.com/best-party-songs/\u001b[0m\u001b[4;94m)\u001b[0m\n",
              "Best Party Songs - Final Thoughts . It wasn't easy to pick the best party songs, but we tried to cover different \n",
              "styles and genres so there's something for everyone. Nevertheless, all of the songs we mentioned today are the \n",
              "world's top party songs. And they will certainly get you in the party mood! Similar Playlists: Best Sing-Along \n",
              "Songs\n",
              "\n",
              "|DJs, Bands, & Musicians for your event | Cueup - Cueup Blog\u001b[1m]\u001b[0m\u001b[1m(\u001b[0m\u001b[4;94mhttps://cueup.io/blog/best-party-songs\u001b[0m\u001b[4;94m)\u001b[0m\n",
              "In this post, you'll find something for every event. No matter if you're composing the playlist or working with a \n",
              "DJ for the party, these are some of the particular songs that make an unforgettable party. Because You Loved Me - \n",
              "Celine Dion. Little L - Jamiroquai. Don't Go Breaking My Heart - Elton John and Kiki Dee. Sugar Sugar - The Archies\n",
              "\n",
              "|\u001b[1;36m100\u001b[0m Best Party Songs: The Ultimate Party Playlist\u001b[1m]\u001b[0m\u001b[1m(\u001b[0m\u001b[4;94mhttps://audiocaptain.com/best-party-songs/\u001b[0m\u001b[4;94m)\u001b[0m\n",
              "Best 2000s Party Songs. Stylistically speaking, music that dominated the charts in the 2000s was nondescript.. \n",
              "There was not much new regarding musical directions. Club and hip hop dominated the charts while indie acts and \n",
              "some rock groups still had influence.\n"
            ]
          },
          "metadata": {},
          "output_type": "display_data"
        },
        {
          "data": {
            "text/html": [
              "<pre style=\"white-space:pre;overflow-x:auto;line-height:normal;font-family:Menlo,'DejaVu Sans Mono',consolas,'Courier New',monospace\"><span style=\"color: #7f7f7f; text-decoration-color: #7f7f7f\">[Step 1: Duration 5.69 seconds| Input tokens: 1,060 | Output tokens: 12]</span>\n",
              "</pre>\n"
            ],
            "text/plain": [
              "\u001b[2m[Step 1: Duration 5.69 seconds| Input tokens: 1,060 | Output tokens: 12]\u001b[0m\n"
            ]
          },
          "metadata": {},
          "output_type": "display_data"
        },
        {
          "data": {
            "text/html": [
              "<pre style=\"white-space:pre;overflow-x:auto;line-height:normal;font-family:Menlo,'DejaVu Sans Mono',consolas,'Courier New',monospace\"><span style=\"color: #d4b702; text-decoration-color: #d4b702\">━━━━━━━━━━━━━━━━━━━━━━━━━━━━━━━━━━━━━━━━━━━━━━━━━━━━━ </span><span style=\"font-weight: bold\">Step </span><span style=\"color: #008080; text-decoration-color: #008080; font-weight: bold\">2</span><span style=\"color: #d4b702; text-decoration-color: #d4b702\"> ━━━━━━━━━━━━━━━━━━━━━━━━━━━━━━━━━━━━━━━━━━━━━━━━━━━━━━</span>\n",
              "</pre>\n"
            ],
            "text/plain": [
              "\u001b[38;2;212;183;2m━━━━━━━━━━━━━━━━━━━━━━━━━━━━━━━━━━━━━━━━━━━━━━━━━━━━━ \u001b[0m\u001b[1mStep \u001b[0m\u001b[1;36m2\u001b[0m\u001b[38;2;212;183;2m ━━━━━━━━━━━━━━━━━━━━━━━━━━━━━━━━━━━━━━━━━━━━━━━━━━━━━━\u001b[0m\n"
            ]
          },
          "metadata": {},
          "output_type": "display_data"
        },
        {
          "data": {
            "text/html": [
              "<pre style=\"white-space:pre;overflow-x:auto;line-height:normal;font-family:Menlo,'DejaVu Sans Mono',consolas,'Courier New',monospace\">╭─────────────────────────────────────────────────────────────────────────────────────────────────────────────────╮\n",
              "│ Calling tool: 'final_answer' with arguments: {'answer': 'Based on web search results, here\\'s a mix of          │\n",
              "│ recommendations for a party at Wayne\\'s mansion:\\n\\n*   **Classics:** \"September\" by Earth, Wind &amp; Fire,        │\n",
              "│ \"Macarena\", songs from the 2000s\\n*   **Modern Hits:** Songs from 2023 like \"Flowers\" by Miley Cyrus or \"TQG\"   │\n",
              "│ by KAROL G &amp; Shakira, Uptown Funk - Mark Ronson ft\\n\\nTo create the perfect playlist, consider the specific     │\n",
              "│ tastes of the guests and the overall vibe you\\'re aiming for. A mix of old and new, upbeat and danceable tracks │\n",
              "│ will ensure a memorable night. Some websites also recommend playlists tailored for parties. You could search    │\n",
              "│ for \"best party playlists\" for more ideas.'}                                                                    │\n",
              "╰─────────────────────────────────────────────────────────────────────────────────────────────────────────────────╯\n",
              "</pre>\n"
            ],
            "text/plain": [
              "╭─────────────────────────────────────────────────────────────────────────────────────────────────────────────────╮\n",
              "│ Calling tool: 'final_answer' with arguments: {'answer': 'Based on web search results, here\\'s a mix of          │\n",
              "│ recommendations for a party at Wayne\\'s mansion:\\n\\n*   **Classics:** \"September\" by Earth, Wind & Fire,        │\n",
              "│ \"Macarena\", songs from the 2000s\\n*   **Modern Hits:** Songs from 2023 like \"Flowers\" by Miley Cyrus or \"TQG\"   │\n",
              "│ by KAROL G & Shakira, Uptown Funk - Mark Ronson ft\\n\\nTo create the perfect playlist, consider the specific     │\n",
              "│ tastes of the guests and the overall vibe you\\'re aiming for. A mix of old and new, upbeat and danceable tracks │\n",
              "│ will ensure a memorable night. Some websites also recommend playlists tailored for parties. You could search    │\n",
              "│ for \"best party playlists\" for more ideas.'}                                                                    │\n",
              "╰─────────────────────────────────────────────────────────────────────────────────────────────────────────────────╯\n"
            ]
          },
          "metadata": {},
          "output_type": "display_data"
        },
        {
          "data": {
            "text/html": [
              "<pre style=\"white-space:pre;overflow-x:auto;line-height:normal;font-family:Menlo,'DejaVu Sans Mono',consolas,'Courier New',monospace\"><span style=\"color: #d4b702; text-decoration-color: #d4b702; font-weight: bold\">Final answer: Based on web search results, here's a mix of recommendations for a party at Wayne's mansion:</span>\n",
              "\n",
              "<span style=\"color: #d4b702; text-decoration-color: #d4b702; font-weight: bold\">*   **Classics:** \"September\" by Earth, Wind &amp; Fire, \"Macarena\", songs from the 2000s</span>\n",
              "<span style=\"color: #d4b702; text-decoration-color: #d4b702; font-weight: bold\">*   **Modern Hits:** Songs from 2023 like \"Flowers\" by Miley Cyrus or \"TQG\" by KAROL G &amp; Shakira, Uptown Funk - </span>\n",
              "<span style=\"color: #d4b702; text-decoration-color: #d4b702; font-weight: bold\">Mark Ronson ft</span>\n",
              "\n",
              "<span style=\"color: #d4b702; text-decoration-color: #d4b702; font-weight: bold\">To create the perfect playlist, consider the specific tastes of the guests and the overall vibe you're aiming for. </span>\n",
              "<span style=\"color: #d4b702; text-decoration-color: #d4b702; font-weight: bold\">A mix of old and new, upbeat and danceable tracks will ensure a memorable night. Some websites also recommend </span>\n",
              "<span style=\"color: #d4b702; text-decoration-color: #d4b702; font-weight: bold\">playlists tailored for parties. You could search for \"best party playlists\" for more ideas.</span>\n",
              "</pre>\n"
            ],
            "text/plain": [
              "\u001b[1;38;2;212;183;2mFinal answer: Based on web search results, here's a mix of recommendations for a party at Wayne's mansion:\u001b[0m\n",
              "\n",
              "\u001b[1;38;2;212;183;2m*   **Classics:** \"September\" by Earth, Wind & Fire, \"Macarena\", songs from the 2000s\u001b[0m\n",
              "\u001b[1;38;2;212;183;2m*   **Modern Hits:** Songs from 2023 like \"Flowers\" by Miley Cyrus or \"TQG\" by KAROL G & Shakira, Uptown Funk - \u001b[0m\n",
              "\u001b[1;38;2;212;183;2mMark Ronson ft\u001b[0m\n",
              "\n",
              "\u001b[1;38;2;212;183;2mTo create the perfect playlist, consider the specific tastes of the guests and the overall vibe you're aiming for. \u001b[0m\n",
              "\u001b[1;38;2;212;183;2mA mix of old and new, upbeat and danceable tracks will ensure a memorable night. Some websites also recommend \u001b[0m\n",
              "\u001b[1;38;2;212;183;2mplaylists tailored for parties. You could search for \"best party playlists\" for more ideas.\u001b[0m\n"
            ]
          },
          "metadata": {},
          "output_type": "display_data"
        },
        {
          "data": {
            "text/html": [
              "<pre style=\"white-space:pre;overflow-x:auto;line-height:normal;font-family:Menlo,'DejaVu Sans Mono',consolas,'Courier New',monospace\"><span style=\"color: #7f7f7f; text-decoration-color: #7f7f7f\">[Step 2: Duration 2.62 seconds| Input tokens: 3,397 | Output tokens: 172]</span>\n",
              "</pre>\n"
            ],
            "text/plain": [
              "\u001b[2m[Step 2: Duration 2.62 seconds| Input tokens: 3,397 | Output tokens: 172]\u001b[0m\n"
            ]
          },
          "metadata": {},
          "output_type": "display_data"
        },
        {
          "data": {
            "text/plain": [
              "'Based on web search results, here\\'s a mix of recommendations for a party at Wayne\\'s mansion:\\n\\n*   **Classics:** \"September\" by Earth, Wind & Fire, \"Macarena\", songs from the 2000s\\n*   **Modern Hits:** Songs from 2023 like \"Flowers\" by Miley Cyrus or \"TQG\" by KAROL G & Shakira, Uptown Funk - Mark Ronson ft\\n\\nTo create the perfect playlist, consider the specific tastes of the guests and the overall vibe you\\'re aiming for. A mix of old and new, upbeat and danceable tracks will ensure a memorable night. Some websites also recommend playlists tailored for parties. You could search for \"best party playlists\" for more ideas.'"
            ]
          },
          "execution_count": 4,
          "metadata": {},
          "output_type": "execute_result"
        }
      ],
      "source": [
        "from smolagents import ToolCallingAgent, DuckDuckGoSearchTool, HfApiModel\n",
        "\n",
        "agent = ToolCallingAgent(tools=[DuckDuckGoSearchTool()], model=llm_model)\n",
        "\n",
        "agent.run(\"Search for the best music recommendations for a party at the Wayne's mansion.\")"
      ]
    },
    {
      "cell_type": "markdown",
      "metadata": {
        "id": "Cl19VWGRYXrr"
      },
      "source": [
        "\n",
        "When you examine the agent's trace, instead of seeing `Executing parsed code:`, you'll see something like:\n",
        "\n",
        "```text\n",
        "╭─────────────────────────────────────────────────────────────────────────────────────────────────────────────────╮\n",
        "│ Calling tool: 'web_search' with arguments: {'query': \"best music recommendations for a party at Wayne's         │\n",
        "│ mansion\"}                                                                                                       │\n",
        "╰─────────────────────────────────────────────────────────────────────────────────────────────────────────────────╯\n",
        "```  \n",
        "\n",
        "The agent generates a structured tool call that the system processes to produce the output, rather than directly executing code like a `CodeAgent`.\n",
        "\n",
        "Now that we understand both agent types, we can choose the right one for our needs. Let's continue exploring `smolagents` to make Alfred's party a success! 🎉"
      ]
    }
  ],
  "metadata": {
    "colab": {
      "provenance": []
    },
    "kernelspec": {
      "display_name": "agents",
      "language": "python",
      "name": "python3"
    },
    "language_info": {
      "codemirror_mode": {
        "name": "ipython",
        "version": 3
      },
      "file_extension": ".py",
      "mimetype": "text/x-python",
      "name": "python",
      "nbconvert_exporter": "python",
      "pygments_lexer": "ipython3",
      "version": "3.10.16"
    }
  },
  "nbformat": 4,
  "nbformat_minor": 0
}
